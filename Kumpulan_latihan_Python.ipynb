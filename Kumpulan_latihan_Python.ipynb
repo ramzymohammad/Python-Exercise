{
 "cells": [
  {
   "cell_type": "markdown",
   "metadata": {},
   "source": [
    "# Tugas Hari ke-2 "
   ]
  },
  {
   "cell_type": "markdown",
   "metadata": {},
   "source": [
    "## Nomer 1"
   ]
  },
  {
   "cell_type": "code",
   "execution_count": 5,
   "metadata": {},
   "outputs": [
    {
     "name": "stdout",
     "output_type": "stream",
     "text": [
      "masukkan nilai x:4\n",
      "masukkan nilai y:3\n",
      "masukkan nilai z:2\n",
      "hasil dari w = ((x + (y*z))/(x+y))**2 adalah 0.6944444444444445\n"
     ]
    }
   ],
   "source": [
    "x = int(input('masukkan nilai x:'))\n",
    "y = int(input('masukkan nilai y:'))\n",
    "z = int(input('masukkan nilai z:'))\n",
    "\n",
    "w = (((x + y*z))/(x*y))**2\n",
    "print('hasil dari w = ((x + (y*z))/(x+y))**2 adalah',w)"
   ]
  },
  {
   "cell_type": "markdown",
   "metadata": {},
   "source": [
    "## Nomer 2"
   ]
  },
  {
   "cell_type": "code",
   "execution_count": 2,
   "metadata": {},
   "outputs": [
    {
     "name": "stdout",
     "output_type": "stream",
     "text": [
      "masukkan angka berapa saja:4\n",
      "16\n"
     ]
    }
   ],
   "source": [
    "angka = int(input('masukkan angka berapa saja:'))\n",
    "kuadrat = angka**2\n",
    "print(kuadrat)"
   ]
  },
  {
   "cell_type": "markdown",
   "metadata": {},
   "source": [
    "## Nomer 3"
   ]
  },
  {
   "cell_type": "code",
   "execution_count": 6,
   "metadata": {},
   "outputs": [
    {
     "name": "stdout",
     "output_type": "stream",
     "text": [
      "Masukkan jumlah hari yang anda inginkan:800\n",
      "Artinya jumlah  800  hari itu sebanding dengan:\n",
      "2  tahun\n",
      "2  bulan\n",
      "2 minggu\n",
      "13  hari\n"
     ]
    }
   ],
   "source": [
    "# Cara Pertama\n",
    "\n",
    "import math\n",
    "\n",
    "jumlah_hari = int(input('Masukkan jumlah hari yang anda inginkan:'))\n",
    "\n",
    "if jumlah_hari >= 0:\n",
    "    tahun = math.floor(jumlah_hari/360)\n",
    "    bulan = math.floor((jumlah_hari%360)/30)\n",
    "    minggu = math.floor(((jumlah_hari%360)%30)/7)\n",
    "    if minggu == 0:\n",
    "        hari  = ((jumlah_hari%360)%30)\n",
    "    else:\n",
    "        hari = ((jumlah_hari%360)%30)-7\n",
    "    \n",
    "print(\"Artinya jumlah \",jumlah_hari,\" hari itu sebanding dengan:\")\n",
    "print(tahun,\" tahun\")\n",
    "print(bulan,\" bulan\")\n",
    "print(minggu, \"minggu\")\n",
    "print(hari,\" hari\")"
   ]
  },
  {
   "cell_type": "code",
   "execution_count": 4,
   "metadata": {},
   "outputs": [
    {
     "name": "stdout",
     "output_type": "stream",
     "text": [
      "Masukkan jumlah hari yang anda inginkan:432\n",
      "Artinya jumlah  432  hari itu sebanding dengan:\n",
      "1  tahun\n",
      "2  bulan\n",
      "1 minggu\n",
      "5  hari\n"
     ]
    }
   ],
   "source": [
    "# Cara kedua\n",
    "\n",
    "import math\n",
    "\n",
    "jumlah_hari = int(input('Masukkan jumlah hari yang anda inginkan:'))\n",
    "\n",
    "\n",
    "tahun = math.floor(jumlah_hari/360)\n",
    "bulan = math.floor((jumlah_hari%360)/30)\n",
    "minggu = math.floor(((jumlah_hari%360)%30)/7)\n",
    "hari  = ((jumlah_hari%360)%30)-7\n",
    "    \n",
    "\n",
    "    \n",
    "print(\"Artinya jumlah \",jumlah_hari,\" hari itu sebanding dengan:\")\n",
    "print(tahun,\" tahun\")\n",
    "print(bulan,\" bulan\")\n",
    "print(minggu, \"minggu\")\n",
    "print(hari,\" hari\")"
   ]
  },
  {
   "cell_type": "markdown",
   "metadata": {},
   "source": [
    "## Nomer 4"
   ]
  },
  {
   "cell_type": "code",
   "execution_count": 5,
   "metadata": {},
   "outputs": [
    {
     "name": "stdout",
     "output_type": "stream",
     "text": [
      "andi+budi=49\n",
      "andi/budi=0.4\n",
      "usia andi 2 tahun lagi 16.0 dan usia budi 2 tahun lagi 37.0\n"
     ]
    }
   ],
   "source": [
    "print('andi+budi=49')\n",
    "print('andi/budi=0.4')\n",
    "budi = 49/1.4\n",
    "andi = 49-budi\n",
    "print('usia andi 2 tahun lagi', andi+2,'dan usia budi 2 tahun lagi',budi+2)"
   ]
  },
  {
   "cell_type": "markdown",
   "metadata": {},
   "source": [
    "## Nomer 5 "
   ]
  },
  {
   "cell_type": "code",
   "execution_count": 17,
   "metadata": {},
   "outputs": [
    {
     "name": "stdout",
     "output_type": "stream",
     "text": [
      "masukkan kalimat:www\n",
      "masukkan huruf apa saja yang ingin dicari:w\n",
      "['w', 'w', 'w']\n",
      "Huruf yang anda cari yaitu huruf: w ,berjumlah 3 buah\n"
     ]
    }
   ],
   "source": [
    "# Cara Pertama\n",
    "\n",
    "nama = input(\"masukkan kalimat:\")\n",
    "nama_baru = list(nama)\n",
    "huruf = input(\"masukkan huruf apa saja yang ingin dicari:\")\n",
    "print(nama_baru)\n",
    "\n",
    "jumlah = 0\n",
    "for i in nama_baru:\n",
    "   if i == huruf:\n",
    "        jumlah = jumlah + 1\n",
    "print(\"Huruf yang anda cari yaitu huruf: \"+huruf+\" ,berjumlah\",jumlah,\"buah\")\n"
   ]
  },
  {
   "cell_type": "code",
   "execution_count": 23,
   "metadata": {},
   "outputs": [
    {
     "name": "stdout",
     "output_type": "stream",
     "text": [
      "Masukkan kalimat/kata:aku\n",
      "Masukkan huruf yang ingin dicari:a\n",
      "kalimat/kata yang anda masukkan adalah: 'aku'\n",
      "huruf yang anda ingin cari adalah: a\n",
      "Maka banyaknya huruf 'a' di dalam kalimat 'aku' adalah 1\n"
     ]
    }
   ],
   "source": [
    "# Cara Kedua\n",
    "\n",
    "\n",
    "masukkan = input(\"Masukkan kalimat/kata:\")\n",
    "masukkan_huruf = input(\"Masukkan huruf yang ingin dicari:\")\n",
    "word = masukkan.lower()\n",
    "word2 = masukkan_huruf.lower()\n",
    "\n",
    "print(f\"kalimat/kata yang anda masukkan adalah: '{word}'\")\n",
    "print('huruf yang anda ingin cari adalah: '+ word2)\n",
    "banyak_huruf = word.replace(word2,'')\n",
    "panjang = len(word) - len(banyak_huruf)\n",
    "\n",
    "print(f\"Maka banyaknya huruf '{masukkan_huruf}' di dalam kalimat '{word}' adalah\",panjang)"
   ]
  },
  {
   "cell_type": "markdown",
   "metadata": {},
   "source": [
    "## Nomer 6"
   ]
  },
  {
   "cell_type": "code",
   "execution_count": 3,
   "metadata": {},
   "outputs": [
    {
     "name": "stdout",
     "output_type": "stream",
     "text": [
      "Masukkan total jarak antara kedua mobil:120\n",
      "masukkan kecepatan mobil 1:40\n",
      "masukkan kecepatan mobil 2:60\n",
      "masukkan jam berangkat kedua mobil:9\n",
      "masukkan menit berangkat kedua mobil:55\n",
      "waktu berpapasan adalah 72.0 menit\n",
      "artinya 72.0 menit setara dengan:\n",
      "1 jam\n",
      "12.0 menit\n",
      "karena kedua mobil berangkat pukul 9 lewat 55 menit, maka tabrakan terjadi pukul: 11 lebih 7.0 menit\n"
     ]
    }
   ],
   "source": [
    "# Cara Pertama\n",
    "\n",
    "import math\n",
    "\n",
    "total_jarak = int(input('Masukkan total jarak antara kedua mobil:'))\n",
    "mobil_1 = int(input('masukkan kecepatan mobil 1:'))\n",
    "mobil_2 = int(input('masukkan kecepatan mobil 2:'))\n",
    "jam_berangkat = int(input('masukkan jam berangkat kedua mobil:'))\n",
    "menit_berangkat = int(input('masukkan menit berangkat kedua mobil:'))\n",
    "\n",
    "waktu_berpapasan = total_jarak/(mobil_1 + mobil_2)*60\n",
    "print('waktu berpapasan adalah',waktu_berpapasan,'menit' )\n",
    "print('artinya',waktu_berpapasan,'menit setara dengan:')\n",
    "\n",
    "jam = math.floor(waktu_berpapasan/60)\n",
    "print(jam,'jam')\n",
    "menit = (waktu_berpapasan%60)\n",
    "print(menit,'menit')\n",
    "\n",
    "total_jam = jam+jam_berangkat\n",
    "total_menit = menit+menit_berangkat\n",
    "\n",
    "if total_menit >=60:\n",
    "    total_jam = total_jam+math.floor(total_menit/60) \n",
    "    total_menit = (total_menit%60) \n",
    "\n",
    "if total_jam >= 24:\n",
    "    total_jam = math.fabs(total_jam-24)\n",
    "\n",
    "    \n",
    "print('karena kedua mobil berangkat pukul',jam_berangkat,'lewat',menit_berangkat,'menit, maka tabrakan terjadi pukul:',total_jam,'lebih',total_menit,'menit')"
   ]
  },
  {
   "cell_type": "markdown",
   "metadata": {},
   "source": [
    "# Hari ke-3 Tidak ada Tugas"
   ]
  },
  {
   "cell_type": "code",
   "execution_count": null,
   "metadata": {},
   "outputs": [],
   "source": [
    "total = int(input('total umur andi dan budi:'))\n",
    "rasio = float(input('rasio umur andi dan budi'))\n",
    "\n",
    "umur_budi = (total * 10)/(10+(rasio*10))\n",
    "umur_andi = total - umur_budi\n",
    "\n",
    "print('umur andi 2 tahun lagi adalah: {}'.format(umur_andi+2))\n",
    "print(f'umur budi 2 tahun lagi adalah: {umur_andi+2}'}\n",
    "      \n",
    "print(1 + 0.5)\n",
    "print(2 * 0.5)\n",
    "print(round(10//5.5, 5))"
   ]
  },
  {
   "cell_type": "code",
   "execution_count": 16,
   "metadata": {},
   "outputs": [
    {
     "name": "stdout",
     "output_type": "stream",
     "text": [
      "jarak antara kendaraan:120\n",
      "kecepatan 1:40\n",
      "kecepatan 2:60\n",
      "jam berangkat:9\n",
      "menit berangkat:55\n",
      "1.2\n",
      "10\n",
      "7.0\n"
     ]
    }
   ],
   "source": [
    "# Nomer 6\n",
    "\n",
    "jarak_dalam_km = int(input('jarak antara kendaraan:'))\n",
    "kecepatan_1 = int(input('kecepatan 1:'))\n",
    "kecepatan_2 = int(input('kecepatan 2:'))\n",
    "jam_berangkat = int(input('jam berangkat:'))\n",
    "menit_berangkat = int(input('menit berangkat:'))\n",
    "\n",
    "waktu_tabrakan_dalam_menit = (jarak_dalam_km/(kecepatan_1 + kecepatan_2))*60\n",
    "print(waktu_tabrakan_dalam_menit/60)\n",
    "\n",
    "jam = math.floor(waktu_tabrakan_dalam_menit/60) + jam_berangkat\n",
    "menit = (menit_berangkat + (waktu_tabrakan_dalam_menit%60))%60\n",
    "jam = jam +math.floor(menit/60)\n",
    "\n",
    "print(jam)\n",
    "print(menit)"
   ]
  },
  {
   "cell_type": "code",
   "execution_count": 2,
   "metadata": {},
   "outputs": [
    {
     "name": "stdout",
     "output_type": "stream",
     "text": [
      "masukkan bintang yang anda inginkan:9\n",
      "**********\n",
      "*********\n",
      "********\n",
      "*******\n",
      "******\n",
      "*****\n",
      "****\n",
      "***\n",
      "**\n",
      "*\n",
      "**\n",
      "***\n",
      "****\n",
      "*****\n",
      "******\n",
      "*******\n",
      "********\n",
      "*********\n",
      "**********\n",
      "\n"
     ]
    }
   ],
   "source": [
    "bintang = int(input('masukkan bintang yang anda inginkan:'))\n",
    "\n",
    "z = ''\n",
    "for item in range(bintang+1):\n",
    "    for item1 in range(0, (bintang+1)-item):\n",
    "        z += '*'\n",
    "    z += '\\n'\n",
    "for item in range(bintang):\n",
    "    for item1 in range(0, item+1):\n",
    "        if item1>0:\n",
    "            z+= '*'\n",
    "        #elif item1==item+1:\n",
    "           # z += ''\n",
    "        else:        \n",
    "            z +='**'\n",
    "            \n",
    "    z += '\\n'\n",
    "print(z)"
   ]
  },
  {
   "cell_type": "code",
   "execution_count": 15,
   "metadata": {},
   "outputs": [
    {
     "name": "stdout",
     "output_type": "stream",
     "text": [
      "*\n",
      "**\n",
      "***\n",
      "****\n",
      "*****\n",
      "******\n",
      "\n"
     ]
    }
   ],
   "source": [
    "z = ''\n",
    "for item in range(6):\n",
    "    for item1 in range(0, item+1):\n",
    "        z += '*'\n",
    "    z += '\\n'\n",
    "\n",
    "print(z)\n",
    "\n"
   ]
  },
  {
   "cell_type": "code",
   "execution_count": 36,
   "metadata": {},
   "outputs": [
    {
     "name": "stdout",
     "output_type": "stream",
     "text": [
      "Masukkan angka :4\n",
      "            \n",
      "          * \n",
      "       *  * \n",
      "    *  *  * \n",
      " *  *  *  * \n",
      "\n"
     ]
    }
   ],
   "source": [
    "string = \"\"\n",
    "\n",
    "x = int(input(\"Masukkan angka :\"))\n",
    "bar = x\n",
    "# Looping Baris\n",
    "while bar >= 0:\n",
    "\n",
    "\t# Looping Kolom Spasi Kosong\n",
    "\tkol = bar\n",
    "\twhile kol > 0:\n",
    "\t\tstring = string + \"   \"\n",
    "\t\tkol = kol - 1\n",
    "\t\n",
    "\t# Looping Kolom Bintang\t\n",
    "\tkanan = 1\n",
    "\twhile kanan < (x - (bar-1)):\n",
    "\t\tstring = string + \" * \"\n",
    "\t\tkanan = kanan + 1\t\t\n",
    "\t\t\n",
    "\tstring = string + \"\\n\"\n",
    "\tbar = bar - 1\n",
    "\t\n",
    "print (string)"
   ]
  },
  {
   "cell_type": "code",
   "execution_count": 17,
   "metadata": {},
   "outputs": [
    {
     "name": "stdout",
     "output_type": "stream",
     "text": [
      "     * \n",
      "     * * \n",
      "     * * * \n",
      "     * * * * \n",
      "     * * * * * \n",
      "     * * * * * * \n"
     ]
    }
   ],
   "source": [
    "# print('\\n\\n5')\n",
    "import math\n",
    "\n",
    "a = 6\n",
    "s = a - 1 # for spaces\n",
    "for i in range(0, a):\n",
    "    for j in range(0, a-1):\n",
    "        print(' ', end='')\n",
    "    s -= 1\n",
    "    for j in range(0, i + 1):\n",
    "        print('* ', end='')\n",
    " \n",
    "    print('')"
   ]
  },
  {
   "cell_type": "code",
   "execution_count": 57,
   "metadata": {},
   "outputs": [
    {
     "name": "stdout",
     "output_type": "stream",
     "text": [
      "Masukkan angka :4\n",
      "            \n",
      "\n",
      "          * \n",
      "\n",
      "       *  *  * \n",
      "\n",
      "    *  *  *  *  * \n",
      "\n",
      " *  *  *  *  *  *  * \n",
      "\n",
      "\n"
     ]
    }
   ],
   "source": [
    "string = \"\"\n",
    "\n",
    "x = int(input(\"Masukkan angka :\"))\n",
    "bar = x\n",
    "# Looping Baris\n",
    "while bar >= 0:\n",
    "\t# Looping Kolom Spasi Kosong\n",
    "\tkol = bar\n",
    "\twhile kol > 0:\n",
    "\t\tstring = string + \"   \"\n",
    "\t\tkol = kol - 1\n",
    "\t# Looping Kolom Bintang Sisi Kiri\t\n",
    "\tkiri = 1\n",
    "\twhile kiri < (x - (bar-1)):\n",
    "\t\tstring = string + \" * \"\n",
    "\t\tkiri = kiri + 1\t\t\n",
    "\t# Looping Kolom Bintang Sisi Kanan\n",
    "\tkanan = 1\n",
    "\twhile kanan < kiri -1:\n",
    "\t\tstring = string + \" * \"\n",
    "\t\tkanan = kanan + 1\t\n",
    "\n",
    "\tstring = string + \"\\n\\n\"\n",
    "\tbar = bar - 1\n",
    "\t\n",
    "print (string)"
   ]
  },
  {
   "cell_type": "code",
   "execution_count": 68,
   "metadata": {},
   "outputs": [
    {
     "name": "stdout",
     "output_type": "stream",
     "text": [
      "\n"
     ]
    }
   ],
   "source": [
    "bar = 4\n",
    "\n",
    "angka = 1\n",
    "string = ''\n",
    "\n",
    "while angka < bar:\n",
    "    string += ''\n",
    "    angka +=1\n",
    "while angka < bar:\n",
    "    string += '*'\n",
    "    angka +=1\n",
    "print(string)"
   ]
  },
  {
   "cell_type": "markdown",
   "metadata": {},
   "source": [
    "# Tugas Hari ke-4 (Dictionary)"
   ]
  },
  {
   "cell_type": "code",
   "execution_count": null,
   "metadata": {},
   "outputs": [],
   "source": [
    "# nomer 1\n",
    "# Masukkan hari: Senin\n",
    "# output : bahasa inggris hari  adalah monday\n",
    "\n",
    "# nomer 2\n",
    "# Masukkan hari (INA/ENG): Senin\n",
    "# output: bahasa inggris dari senin adalah Monday\n",
    "\n",
    "# Masukkan hari (INA/ENG): monday\n",
    "# output: bahasa indonesia dari monday adalah senin\n",
    "\n"
   ]
  },
  {
   "cell_type": "code",
   "execution_count": 6,
   "metadata": {},
   "outputs": [
    {
     "name": "stdout",
     "output_type": "stream",
     "text": [
      "masukkan nama hari:senin\n",
      "bahasa inggris hari 'senin' adalah monday\n"
     ]
    }
   ],
   "source": [
    "# nomer 1\n",
    "\n",
    "#Cara pertama\n",
    "day = input('masukkan nama hari:').lower()\n",
    "hari = {'senin':'monday', 'selasa':'tuesday', 'rabu':'wednesday', 'kamis':'thursday', 'jumat':'friday','sabtu':'saturday'}\n",
    "print(f\"bahasa inggris hari '{day}' adalah \"+hari[day])\n"
   ]
  },
  {
   "cell_type": "code",
   "execution_count": 2,
   "metadata": {},
   "outputs": [
    {
     "name": "stdout",
     "output_type": "stream",
     "text": [
      "masukkan hari: senin\n",
      "bahasa inggris dari hari SENIN adalah MONDAY\n"
     ]
    }
   ],
   "source": [
    "hari_dict =  {'senin':'monday',\n",
    "        'selasa':'tuesday', \n",
    "        'rabu':'wednesday', \n",
    "        'kamis':'thursday', \n",
    "        'jumat':'friday',\n",
    "        'sabtu':'saturday'\n",
    "}\n",
    "\n",
    "hari = input('masukkan hari: ')\n",
    "if hari in list(hari_dict.keys()):\n",
    "    print(f\"bahasa inggris dari hari {hari.upper()} adalah {hari_dict[hari].upper()}\")\n",
    "else:\n",
    "    print(\"Invalid\")"
   ]
  },
  {
   "cell_type": "code",
   "execution_count": 12,
   "metadata": {},
   "outputs": [
    {
     "name": "stdout",
     "output_type": "stream",
     "text": [
      "masukkan hari boleh INA/ENG:friday\n",
      "bahasa indonesia hari 'friday' adalah jumat\n"
     ]
    }
   ],
   "source": [
    "# nomer 2\n",
    "\n",
    "# cara pertama\n",
    "\n",
    "day = input('masukkan hari boleh INA/ENG:' ).lower()\n",
    "\n",
    "if day =='senin' or day == 'selasa'or day == 'rabu' or day == 'kamis' or day == 'jumat' or day == 'sabtu' or day == 'minggu':\n",
    "    hari = {'senin':'monday', 'selasa':'tuesday', 'rabu':'wednesday', 'kamis':'thursday', 'jumat':'friday','sabtu':'saturday','minggu':'sunday'}\n",
    "    print(f\"bahasa inggris hari '{day}' adalah \"+hari[day])\n",
    "\n",
    "elif day =='monday' or day == 'tuesday'or day == 'wednesday' or day == 'thursday' or day == 'friday' or day == 'saturday' or day == 'sunday':\n",
    "    hari2 = {'monday':'senin', 'tuesday':'selasa', 'wednesday':'rabu', 'thursday':'kamis', 'friday':'jumat','saturday':'sabtu', 'sunday': 'minggu'}\n",
    "    print(f\"bahasa indonesia hari '{day}' adalah \"+hari2[day])\n",
    "else:\n",
    "    print(\"hari yang anda masukkan salah mohon dicoba lagi!!!\")"
   ]
  },
  {
   "cell_type": "code",
   "execution_count": 38,
   "metadata": {},
   "outputs": [
    {
     "name": "stdout",
     "output_type": "stream",
     "text": [
      "masukkan hari: minggu\n",
      "['senin', 'selasa', 'rabu', 'kamis', 'jumat', 'sabtu', 'minggu']\n",
      "['monday', 'tuesday', 'wednesday', 'thursday', 'friday', 'saturday', 'sunday']\n",
      "bahasa inggris dari 'minggu' adalah sunday\n"
     ]
    }
   ],
   "source": [
    "# cara kedua\n",
    "\n",
    "\n",
    "day = input('masukkan hari: ').lower()\n",
    "\n",
    "hari = {\n",
    "    'senin':'monday', \n",
    "    'selasa':'tuesday', \n",
    "    'rabu':'wednesday', \n",
    "    'kamis':'thursday', \n",
    "    'jumat':'friday',\n",
    "    'sabtu':'saturday',\n",
    "    'minggu':'sunday'\n",
    "}\n",
    "\n",
    "keys = list(hari.keys())\n",
    "print(keys)\n",
    "values = list(hari.values())\n",
    "print(values)\n",
    "\n",
    "if day in keys:\n",
    "    print(f\"bahasa inggris dari '{day}' adalah \"+hari[day])\n",
    "\n",
    "else :\n",
    "    print(f\"bahasa indonesia dari '{day}' adalah \"+keys[values.index(day)])"
   ]
  },
  {
   "cell_type": "code",
   "execution_count": 31,
   "metadata": {},
   "outputs": [
    {
     "name": "stdout",
     "output_type": "stream",
     "text": [
      "a\n"
     ]
    }
   ],
   "source": [
    "z = ['a','s']\n",
    "x = ['toyota']\n",
    "print(z[x.index('toyota')])"
   ]
  },
  {
   "cell_type": "code",
   "execution_count": 5,
   "metadata": {},
   "outputs": [
    {
     "name": "stdout",
     "output_type": "stream",
     "text": [
      "Masukkah hari (INA/ENG): monday\n",
      "bahasa indonesia dari MONDAY adalah SENIN\n"
     ]
    }
   ],
   "source": [
    "#cara ketiga\n",
    "\n",
    "hari_list = list(hari_dict.keys())\n",
    "day_list = list(hari_dict.values())\n",
    "\n",
    "user_input = input(\"Masukkah hari (INA/ENG): \")\n",
    "\n",
    "if user_input in hari_list:\n",
    "    day = day_list[hari_list.index(user_input)]\n",
    "    print(f\"bahasa inggris dari {user_input.upper()} adalah {day.upper()}\")\n",
    "elif user_input in day_list:\n",
    "    hari = hari_list[day_list.index(user_input)]\n",
    "    print(f\"bahasa indonesia dari {user_input.upper()} adalah {hari.upper()}\")\n",
    "else:\n",
    "    print(\"Invalid\")"
   ]
  },
  {
   "cell_type": "markdown",
   "metadata": {},
   "source": [
    "# Tugas Hari ke-5 (Function)"
   ]
  },
  {
   "cell_type": "code",
   "execution_count": 6,
   "metadata": {},
   "outputs": [
    {
     "name": "stdout",
     "output_type": "stream",
     "text": [
      "Hasil pengurangan dari 1 - 2 adalah -1\n"
     ]
    }
   ],
   "source": [
    "# Kalkulator sederhana\n",
    "\n",
    "# Cara pertama\n",
    "\n",
    "def calculator(x1, op, x2):\n",
    "\n",
    "        if op == '+':\n",
    "            print(f\"Hasil penjumlahan dari {x1} {op} {x2} adalah {x1+x2}\")\n",
    "        elif op == '-':\n",
    "            print(f\"Hasil pengurangan dari {x1} {op} {x2} adalah {x1-x2}\")\n",
    "        elif op == 'x':\n",
    "            print(f\"Hasil perkalian dari {x1} {op} {x2} adalah {x1xx2}\")\n",
    "        elif op == '/':\n",
    "            print(f\"Hasil pembagian dari {x1} {op} {x2} adalah {x1/x2}\")\n",
    "        elif op == '^':\n",
    "            print(f\"Hasil perpangkatan dari {x1} {op} {x2} adalah {x1^x2}\")\n",
    "        else:\n",
    "            print(f\"operator {op} tidak ditemukan\")\n",
    "\n",
    "calculator(1,'-',2) # 1 sudah integer, \"-\" sudah string, dan 2 sudah integer"
   ]
  },
  {
   "cell_type": "code",
   "execution_count": 7,
   "metadata": {},
   "outputs": [
    {
     "name": "stdout",
     "output_type": "stream",
     "text": [
      "penjumlahan 6, 2, 8, 2.0,16\n",
      "6\n",
      "2\n",
      "8\n",
      "2.0\n",
      "16\n",
      "16\n"
     ]
    }
   ],
   "source": [
    "# Cara kedua\n",
    "\n",
    "def all_in_calculator(angka1, angka2):\n",
    "    penjumlahan = angka1 + angka2\n",
    "    pengurangan = angka1 - angka2\n",
    "    perkalian = angka1 * angka2\n",
    "    pembagian = angka1 / angka2\n",
    "    pangkat = angka1 ** angka2\n",
    "    \n",
    "    print(f\"penjumlahan {penjumlahan}, {pengurangan}, {perkalian}, {pembagian},{pangkat}\")\n",
    "    return penjumlahan, pengurangan, perkalian, pembagian, pangkat\n",
    "\n",
    "hasil_jumlah, hasil_kurang, hasil_kali, hasil_bagi, hasil_pangkat = all_in_calculator(4, 2)\n",
    "print(hasil_jumlah)\n",
    "print(hasil_kurang)\n",
    "print(hasil_kali)\n",
    "print(hasil_bagi)\n",
    "print(hasil_pangkat)\n",
    "\n",
    "# jadi bisa dipake seterusnya\n",
    "print(hasil_jumlah + 10)"
   ]
  },
  {
   "cell_type": "code",
   "execution_count": 8,
   "metadata": {},
   "outputs": [
    {
     "name": "stdout",
     "output_type": "stream",
     "text": [
      "angka pertama:1\n",
      "operator:-\n",
      "angka kedua:0\n",
      "Hasil pengurangan dari 1 - 0 adalah 1\n"
     ]
    }
   ],
   "source": [
    "# Cara Ketiga\n",
    "\n",
    "angka1 = input('angka pertama:')\n",
    "oper = input('operator:')\n",
    "angka2 = input('angka kedua:')\n",
    "\n",
    "\n",
    "def calculator (x1, op, x2):\n",
    "    if (x1.isnumeric() == True) and (op.isascii() == True) and (x2.isnumeric() == True):\n",
    "        x1 = int(x1)\n",
    "        x2 = int(x2)\n",
    "        \n",
    "        if op == '+':\n",
    "            print(f\"Hasil penjumlahan dari {x1} {op} {x2} adalah {x1+x2}\")\n",
    "        elif op == '-':\n",
    "            print(f\"Hasil pengurangan dari {x1} {op} {x2} adalah {x1-x2}\")\n",
    "        elif op == 'x':\n",
    "            print(f\"Hasil perkalian dari {x1} {op} {x2} adalah {x1xx2}\")\n",
    "        elif op == '/':\n",
    "            print(f\"Hasil pembagian dari {x1} {op} {x2} adalah {x1/x2}\")\n",
    "        elif op == '^':\n",
    "            print(f\"Hasil perpangkatan dari {x1} {op} {x2} adalah {x1^x2}\")\n",
    "        else:\n",
    "            print(f\"operator {op} tidak ditemukan\")\n",
    "    else:\n",
    "        print(\"Invalid\")\n",
    "                  \n",
    "calculator(angka1, oper, angka2)"
   ]
  },
  {
   "cell_type": "code",
   "execution_count": 36,
   "metadata": {},
   "outputs": [
    {
     "name": "stdout",
     "output_type": "stream",
     "text": [
      "angka pertama:1\n",
      "operator:+\n",
      "angka kedua:2\n",
      "3\n"
     ]
    }
   ],
   "source": [
    "# cara keempat=1\n",
    "\n",
    "angka1 = input('angka pertama:')\n",
    "oper = input('operator:')\n",
    "angka2 = input('angka kedua:')\n",
    "\n",
    "OPERATORS = {'+': '+', '-': '-', '*': '*', '/': '/'}\n",
    "\n",
    "def calculator(angka1, oper, angka2):\n",
    "            cek = (f'{angka1} {OPERATORS[oper]} {angka2}')\n",
    "            hasil = eval(cek)\n",
    "            return hasil\n",
    "x = calculator(angka1,oper,angka2)\n",
    "print(x)"
   ]
  },
  {
   "cell_type": "code",
   "execution_count": 10,
   "metadata": {},
   "outputs": [
    {
     "name": "stdout",
     "output_type": "stream",
     "text": [
      "angka pertama:1\n",
      "operator:-\n",
      "angka kedua:0\n",
      "1\n"
     ]
    }
   ],
   "source": [
    "# cara keempat-2\n",
    "\n",
    "angka1 = input('angka pertama:')\n",
    "oper = input('operator:')\n",
    "angka2 = input('angka kedua:')\n",
    "\n",
    "OPERATORS = {'+': '+', '-': '-', '*': '*', '/': '/','**':'**'}\n",
    "\n",
    "def calculator(angka1, oper, angka2):\n",
    "        if (angka1.isnumeric() == True) and (oper.isascii() == True) and (angka2.isnumeric() == True):           \n",
    "            if OPERATORS[oper] == '+' or OPERATORS[oper] == '-' or OPERATORS[oper] == '*' or OPERATORS[oper] == '/' or OPERATORS[oper] == '**':\n",
    "                cek = (f'{angka1} {OPERATORS[oper]} {angka2}')\n",
    "                hasil = eval(cek)\n",
    "                return hasil\n",
    "            else:\n",
    "                print(f\"operator {oper} tidak ditemukan\")\n",
    "        else:\n",
    "            print(\"Invalid\")\n",
    "x = calculator(angka1,oper,angka2)\n",
    "print(x)\n"
   ]
  },
  {
   "cell_type": "code",
   "execution_count": 37,
   "metadata": {},
   "outputs": [
    {
     "name": "stdout",
     "output_type": "stream",
     "text": [
      "angka pertama:1\n",
      "operator (+,-,*,/,^):-\n",
      "angka kedua:2\n",
      "angka pangkat:2\n",
      "hasil pengurangan dari 1 - 2 adalah -1\n",
      "hasil pengurangan dari 1 - 2 adalah -1\n",
      "pangkat dari 3 adalah 9\n",
      "hasil kuadrat dari 3 adalah 9\n"
     ]
    }
   ],
   "source": [
    "# cara kelima\n",
    "par1 = int(input('angka pertama:'))\n",
    "par2 = input('operator (+,-,*,/,^):')\n",
    "par3 = int(input('angka kedua:'))\n",
    "y = int(input('angka pangkat:'))\n",
    "\n",
    "def kalkulator(par1, par2, par3):\n",
    "    if par2 == '+':\n",
    "        print('hasil penambahan dari', par1, par2, par3, 'adalah', par1 + par3)\n",
    "        return par1 + par3\n",
    "    elif par2 == '-':\n",
    "        print('hasil pengurangan dari', par1, par2, par3, 'adalah', par1 - par3)\n",
    "        return par1 + par3\n",
    "    elif par2 == 'x':\n",
    "        print('hasil perkalian dari', par1, par2, par3, 'adalah', par1 * par3)\n",
    "        return par1 * par3\n",
    "    elif par2 == '/':\n",
    "        print('hasil pembagian dari', par1, par2, par3, 'adalah', par1 / par3)\n",
    "        return par1 / par3\n",
    "    elif par2 == '^':\n",
    "        print('hasil pemangkatan dari', par1, par2, par3, 'adalah', par1 ** par3)\n",
    "        return par1**par3\n",
    "    else:\n",
    "        print('invalid input')\n",
    "\n",
    "def perhitungan_kuadrat(hasil):\n",
    "    print('pangkat dari', f'{hasil:,}', 'adalah', f'{hasil ** 2:,}')\n",
    "    return (hasil ** 2)\n",
    "\n",
    "print('hasil kuadrat dari', kalkulator(par1,par2,par3), 'adalah', f'{(perhitungan_kuadrat(kalkulator(par1,par2,par3))):,}')"
   ]
  },
  {
   "cell_type": "markdown",
   "metadata": {},
   "source": [
    "# Tugas Hari ke-6 (Function)"
   ]
  },
  {
   "cell_type": "code",
   "execution_count": 34,
   "metadata": {},
   "outputs": [
    {
     "name": "stdout",
     "output_type": "stream",
     "text": [
      "Hello\n"
     ]
    }
   ],
   "source": [
    "#Cara pertama\n",
    "def c():\n",
    "    return cicak\n",
    "\n",
    "def cicak():\n",
    "     return [\"jaguar\",[\"car\",\"bob\",{\"test\":aku}]]\n",
    "    \n",
    "def aku():\n",
    "      print (\"Hello\")\n",
    "\n",
    "\n",
    "def beta():\n",
    "    return  {\"hello\":[\"a\",\"b\",c]}                       \n",
    "    \n",
    "beta()[\"hello\"][2]()()[1][2][\"test\"]()"
   ]
  },
  {
   "cell_type": "code",
   "execution_count": 33,
   "metadata": {},
   "outputs": [
    {
     "name": "stdout",
     "output_type": "stream",
     "text": [
      "Hello world!\n"
     ]
    }
   ],
   "source": [
    "#Cara kedua\n",
    "def beta(): #1 memanggil fungsi beta\n",
    "    def c(): #2 men-declare fungsi c\n",
    "        def c1(): #4 men-declare fungsi c1\n",
    "            def c2(): #6 men-declare fungsi c2\n",
    "                print(\"Hello world!\") #8 print 'Hello world!'\n",
    "            return [['a'],['b','g',{'test':c2}]] #7 mengembalikan list[1][2], lebih spesifik value 'test' yaitu c2, otomatis memanggil fungsi c2\n",
    "        return c1  #5 mengembalikan c1 lalu otomatis memanggil fungsi c1\n",
    "    return {'hello': ['a','b',c]} #3 memanggil value dictionary 'hello' dan list [2], yaitu 'c', otomatis memanggil fungsi c\n",
    "\n",
    "\n",
    "beta()['hello'][2]()()[1][2]['test']()"
   ]
  },
  {
   "cell_type": "markdown",
   "metadata": {},
   "source": [
    "# Tugas Hari ke-6 (Loop)"
   ]
  },
  {
   "cell_type": "code",
   "execution_count": 3,
   "metadata": {},
   "outputs": [],
   "source": [
    "# No. 1\n",
    "# password = '12345'\n",
    "\n",
    "# case 1:\n",
    "# input = 23452\n",
    "# 'Password Incorrect'\n",
    "# input = 23423\n",
    "# 'Password Incorrect'\n",
    "# input = 23423\n",
    "# 'Password Incorrect'\n",
    "# input = 23423\n",
    "# 'Try again later'\n",
    "\n",
    "# case 2:\n",
    "# input 12345\n",
    "# 'Password Correct'\n",
    "\n",
    "# case 3:\n",
    "# input = 23452\n",
    "# 'Password Incorrect'\n",
    "# input = 23423\n",
    "# 'Password Incorrect'\n",
    "# input = 12345\n",
    "# 'Password Correct'\n",
    "# '''"
   ]
  },
  {
   "cell_type": "code",
   "execution_count": 6,
   "metadata": {},
   "outputs": [
    {
     "name": "stdout",
     "output_type": "stream",
     "text": [
      "Masukkan Password:32213\n",
      "Password Incorrect! you have 3 attempt left!\n",
      "Masukkan Password:123123\n",
      "Password Incorrect! you have 2 attempt left!\n",
      "Masukkan Password:12345\n",
      "Password correct\n"
     ]
    }
   ],
   "source": [
    "# nomer 1\n",
    "\n",
    "# Quiz\n",
    "#nomer 1\n",
    "# Cara pertama\n",
    "\n",
    "password = '12345'\n",
    "attempt = 1\n",
    "while attempt <=4:\n",
    "    input_password = input('Masukkan Password:')\n",
    "    if input_password == password:\n",
    "        print('Password correct')\n",
    "        break\n",
    "    else:\n",
    "        if attempt == 4:\n",
    "            print('Try Again Later!')\n",
    "            break\n",
    "        else:\n",
    "            if attempt == 3:\n",
    "                print(f\"Password Incorrect! you have {4-attempt} attempt left!\")\n",
    "            else:\n",
    "                print(f\"Password Incorrect! you have {4-attempt} attempt left!\")\n",
    "            attempt +=1"
   ]
  },
  {
   "cell_type": "code",
   "execution_count": 8,
   "metadata": {},
   "outputs": [
    {
     "name": "stdout",
     "output_type": "stream",
     "text": [
      "holo opo kobor komo do sono\n"
     ]
    }
   ],
   "source": [
    "# No.2, ubahlah huruf vokal menjadi 'o'\n",
    "# cara pertama\n",
    "\n",
    "def replace_o(kalimat):\n",
    "    kalimat = kalimat.replace('a','o')\n",
    "    kalimat = kalimat.replace('i','o')\n",
    "    kalimat = kalimat.replace('u','o')\n",
    "    kalimat = kalimat.replace('e','o')\n",
    "    return kalimat\n",
    "print(replace_o(\"halo apa kabar kamu di sana\"))\n",
    "        "
   ]
  },
  {
   "cell_type": "code",
   "execution_count": 12,
   "metadata": {},
   "outputs": [
    {
     "name": "stdout",
     "output_type": "stream",
     "text": [
      "Masukkan kalimat: aku\n",
      "oko\n"
     ]
    }
   ],
   "source": [
    "# cara kedua\n",
    "\n",
    "vokal = ['a', 'i', 'u', 'e', 'o']\n",
    "kalimat = input('Masukkan kalimat: ')\n",
    "kalimat2 = ''\n",
    "for i in kalimat:\n",
    "    if i in vokal:\n",
    "        huruf = 'o'\n",
    "    else: huruf = i\n",
    "    kalimat2 += huruf\n",
    "print(kalimat2)"
   ]
  },
  {
   "cell_type": "code",
   "execution_count": 15,
   "metadata": {},
   "outputs": [
    {
     "name": "stdout",
     "output_type": "stream",
     "text": [
      "Masukkan angka5\n",
      "120\n"
     ]
    }
   ],
   "source": [
    "# Nomer 3, carilah nilai factorial dari bilangan tertentu.\n",
    "# cara pertama\n",
    "\n",
    "def factorial(n):\n",
    "    if n < 0:\n",
    "        print('must be positive digit')\n",
    "    elif n == 0:\n",
    "        return 1\n",
    "    elif n == 1:\n",
    "        return 1\n",
    "    return n * factorial(n - 1)\n",
    "\n",
    "\n",
    "user_input = int(input('Masukkan angka'))\n",
    "print(factorial(user_input))"
   ]
  },
  {
   "cell_type": "code",
   "execution_count": 18,
   "metadata": {},
   "outputs": [
    {
     "name": "stdout",
     "output_type": "stream",
     "text": [
      "Masukkan n : 0\n",
      "1\n"
     ]
    }
   ],
   "source": [
    "# cara kedua dengan while loop\n",
    "\n",
    "def factorial(n):\n",
    "    result = 1\n",
    "\n",
    "    if n < 0 :\n",
    "        return 'Must be positive int'\n",
    "    else:\n",
    "        i = 1\n",
    "        while i <= n:\n",
    "            result *= i\n",
    "            i += 1\n",
    "    return result\n",
    "\n",
    "n = int(input('Masukkan n : '))\n",
    "print(factorial(n))"
   ]
  },
  {
   "cell_type": "markdown",
   "metadata": {},
   "source": [
    "### Tambahan Tugas Hari ke-6"
   ]
  },
  {
   "cell_type": "code",
   "execution_count": 20,
   "metadata": {},
   "outputs": [
    {
     "name": "stdout",
     "output_type": "stream",
     "text": [
      "masukkan angka:12\n",
      "1\n",
      "2\n",
      "fizz\n",
      "4\n",
      "buzz\n",
      "fizz\n",
      "7\n",
      "8\n",
      "fizz\n",
      "buzz\n",
      "11\n",
      "fizz\n"
     ]
    }
   ],
   "source": [
    "# nomer 1\n",
    "# buatlah sebuah function untuk game fizz buzz!\n",
    "# function ini menerima 1 parameter\n",
    "# ketika bertemu dengan angka yang habis dibagi 3 maka dia akan print fizz [3,6,9]\n",
    "# ketika bertemu dengan angka yang habis dibagi 5 makan dia akan print buzz [5,10,15,20,25]\n",
    "# ketika bertemu dengan angka yang habis dibagi 3 dan 5 makan dia akan print fizzbuzz\n",
    "\n",
    "\n",
    "def kalkulator(n):\n",
    "    i=1\n",
    "    while i <=n:\n",
    "        if i %3 ==0 and i %5==0:\n",
    "            print(\"fizzbuzz\")\n",
    "        elif i % 5 ==0:\n",
    "            print(\"buzz\")\n",
    "        elif i %3 ==0:\n",
    "            print(\"fizz\")\n",
    "        else:\n",
    "            print(i)\n",
    "        i +=1\n",
    "\n",
    "angka = int(input('masukkan angka:'))\n",
    "\n",
    "kalkulator(angka)"
   ]
  },
  {
   "cell_type": "code",
   "execution_count": 21,
   "metadata": {},
   "outputs": [
    {
     "name": "stdout",
     "output_type": "stream",
     "text": [
      "masukkan a=list untuk string atau b=list untuk integer:a\n",
      "masukkan kata:aku\n",
      "['u', 'k', 'a']\n"
     ]
    }
   ],
   "source": [
    "# nomer 2\n",
    "#reverse dari list1 ke list\n",
    "# cara pertama\n",
    "pilih = input('masukkan a=list untuk string atau b=list untuk integer:').lower()\n",
    "\n",
    "if pilih == 'a':\n",
    "    kata = input(\"masukkan kata:\" )\n",
    "    list1 = [char for char in kata] \n",
    "    list2 = []\n",
    "\n",
    "    for i in range(len(list1)):\n",
    "        list2.insert(0,list1[i])\n",
    "\n",
    "    print(list2)\n",
    "\n",
    "elif pilih == 'b':\n",
    "    kata = int(input(\"masukkan angka:\" ))\n",
    "    resr =  [int(x) for x in str(kata)]\n",
    "    list2 = []\n",
    "\n",
    "    for i in range(len(resr)):\n",
    "        list2.insert(0,resr[i])\n",
    "\n",
    "    print(list2)\n",
    "\n",
    "else:\n",
    "    print(\"coba lagi\")\n",
    "  "
   ]
  },
  {
   "cell_type": "code",
   "execution_count": 22,
   "metadata": {},
   "outputs": [
    {
     "name": "stdout",
     "output_type": "stream",
     "text": [
      "MASUKAN ANGKA CANTIK : 123\n",
      "['3', '2', '1']\n"
     ]
    }
   ],
   "source": [
    "# cara kedua\n",
    "d = input ('MASUKAN ANGKA CANTIK : ')\n",
    "list1 = [char for char in d]\n",
    "i = 0\n",
    "e = []\n",
    "for i in range(len(list1)):\n",
    "    k = -(i+1) \n",
    "    e.append(list1[k])\n",
    "\n",
    "print(e)"
   ]
  },
  {
   "cell_type": "code",
   "execution_count": 23,
   "metadata": {},
   "outputs": [
    {
     "name": "stdout",
     "output_type": "stream",
     "text": [
      "[7, 6, 5, 4, 3, 2, 1]\n"
     ]
    }
   ],
   "source": [
    "# cara ketiga\n",
    "inp = [1,2,3,4,5,6,7]\n",
    "output = []\n",
    "a = 0\n",
    "\n",
    "for i in range(0,len(inp)):\n",
    "    a -= 1\n",
    "    output.append(inp[a])\n",
    "    \n",
    "print(output)"
   ]
  },
  {
   "cell_type": "code",
   "execution_count": 10,
   "metadata": {},
   "outputs": [
    {
     "name": "stdout",
     "output_type": "stream",
     "text": [
      "[7, 6, 5, 4, 3, 2, 1]\n"
     ]
    }
   ],
   "source": [
    "# cara keempat\n",
    "nums = [1,2,3,4,5,6,7]\n",
    "num2 =[]\n",
    "\n",
    "for i in range(1,len(nums)+1): #[1,2,3,4,5,6,7]\n",
    "    num2.append(nums[-i]) # -1,-2,-3,....\n",
    "print(num2)"
   ]
  },
  {
   "cell_type": "code",
   "execution_count": 7,
   "metadata": {},
   "outputs": [
    {
     "name": "stdout",
     "output_type": "stream",
     "text": [
      "masukkan kata:malam\n",
      "['m', 'a', 'l', 'a', 'm']\n",
      "Is 'malam' a palindrome: True\n"
     ]
    }
   ],
   "source": [
    "# nomer 3\n",
    "# apakah kata tersebut merupakan palindrome\n",
    "# cara pertama\n",
    "kata = input(\"masukkan kata:\" ) \n",
    "list1 = [char for char in kata]\n",
    "list2 = []\n",
    "\n",
    "for i in range(len(list1)):\n",
    "    list2.insert(0,list1[i])\n",
    "\n",
    "print(list2)\n",
    "\n",
    "if list1 == list2:\n",
    "    print(f\"Is '{kata}' a palindrome: {True}\")\n",
    "else:\n",
    "    print(f\"Is '{kata}' a palindrome: {False}\")\n",
    "    "
   ]
  },
  {
   "cell_type": "code",
   "execution_count": 28,
   "metadata": {},
   "outputs": [
    {
     "name": "stdout",
     "output_type": "stream",
     "text": [
      "masukkan kata:makan\n",
      "Is word makan a plindrome = False\n"
     ]
    }
   ],
   "source": [
    "# cara kedua\n",
    "kata = input('masukkan kata:').lower()\n",
    "kata_dibalik = kata[::-1]\n",
    "if kata == kata_dibalik:\n",
    "    print('Is word',kata,'a plindrome = True')\n",
    "else:\n",
    "    print('Is word',kata,'a plindrome = False')"
   ]
  },
  {
   "cell_type": "code",
   "execution_count": 30,
   "metadata": {},
   "outputs": [
    {
     "name": "stdout",
     "output_type": "stream",
     "text": [
      "Masukkan kata:mobil\n",
      "mobil is not a palindrome\n"
     ]
    }
   ],
   "source": [
    "# cara ketiga\n",
    "\n",
    "def cekkata():\n",
    "    kata = input(\"Masukkan kata:\").lower()\n",
    "    list2 =''\n",
    "    k = 0\n",
    "    for i in range(len(kata)):\n",
    "        k -= 1\n",
    "        list2 += kata[k]\n",
    "    if list2 == kata:\n",
    "        print(f'{kata} is a palindrome')\n",
    "    else: print(f'{kata} is not a palindrome')\n",
    "\n",
    "cekkata()"
   ]
  },
  {
   "cell_type": "code",
   "execution_count": null,
   "metadata": {},
   "outputs": [],
   "source": [
    "# cara keempat\n",
    "\n",
    "kata = 'malam'\n",
    "len_kata = len(kata)\n",
    "is_palindrome = False\n",
    "for i in range(0, len_kata):\n",
    "    if kata[i] == kata[-i-1]:\n",
    "        is_palindrome = True\n",
    "    else:\n",
    "        is_palindrome = False\n",
    "        break\n",
    "print(f\"is word {kata.upper()} is palindrome? {is_palindrome}\")"
   ]
  },
  {
   "cell_type": "code",
   "execution_count": 25,
   "metadata": {},
   "outputs": [
    {
     "name": "stdout",
     "output_type": "stream",
     "text": [
      "masukkan angka:5\n",
      "*\n",
      "**\n",
      "***\n",
      "****\n",
      "*****\n",
      "\n"
     ]
    }
   ],
   "source": [
    "# nomer 4\n",
    "#buatlah sebuah function yang menerima 1 parameter, untuk membuat segitiga siku-siku\n",
    "#def segitiga(n):\n",
    "# cara pertama\n",
    "def segitiga(n):\n",
    "    z = ''\n",
    "    for item in range(n):\n",
    "        for item1 in range(0, item+1):\n",
    "            z += '*'\n",
    "        z += '\\n'\n",
    "\n",
    "    print(z)\n",
    "\n",
    "n = int(input('masukkan angka:'))\n",
    "segitiga(n)\n"
   ]
  },
  {
   "cell_type": "code",
   "execution_count": 9,
   "metadata": {},
   "outputs": [
    {
     "name": "stdout",
     "output_type": "stream",
     "text": [
      " * \n",
      " *  * \n",
      " *  *  * \n",
      " *  *  *  * \n",
      " *  *  *  *  * \n",
      " *  *  *  *  *  * \n",
      " *  *  *  *  *  *  * \n"
     ]
    }
   ],
   "source": [
    "# cara kedua\n",
    "def segitiga_siku(x):\n",
    "    star = ''\n",
    "    for i in range(x):\n",
    "        star +=' * '\n",
    "        print(star)\n",
    "segitiga_siku(7)"
   ]
  },
  {
   "cell_type": "code",
   "execution_count": 8,
   "metadata": {},
   "outputs": [
    {
     "name": "stdout",
     "output_type": "stream",
     "text": [
      " *  *  *  *  *  *  * \n",
      " *  *  *  *  *  * \n",
      " *  *  *  *  * \n",
      " *  *  *  * \n",
      " *  *  * \n",
      " *  * \n",
      " * \n",
      "\n"
     ]
    }
   ],
   "source": [
    "# nomer 5\n",
    "#buatlah sebuah function yang menerima 1 parameter, untuk membuat segitiga siku-siku reversed\n",
    "#def segitiga(n):\n",
    "\n",
    "def segitiga_siku_reverse(x):\n",
    "    star = ''\n",
    "    for i in range(x, 0, -1): # [7,6,5,4,3,2,1]\n",
    "        for j in range(0, i): # [0,1,2,3,4,5,6,]\n",
    "            star += ' * '\n",
    "        star += '\\n'\n",
    "    print(star)\n",
    "segitiga_siku_reverse(7)"
   ]
  },
  {
   "cell_type": "markdown",
   "metadata": {},
   "source": [
    "# Tugas Hari ke-7"
   ]
  },
  {
   "cell_type": "code",
   "execution_count": null,
   "metadata": {},
   "outputs": [],
   "source": [
    "# Nomer 1 (Seven Segment)\n",
    "# Cara Pertama\n",
    "\n"
   ]
  },
  {
   "cell_type": "code",
   "execution_count": 1,
   "metadata": {},
   "outputs": [
    {
     "name": "stdout",
     "output_type": "stream",
     "text": [
      "\n",
      " ****** HANGMAN ****** \n",
      " 4 huruf! Minuman khusus bayi\n",
      "Attempts 1: s\n",
      "s _ s _\n",
      "\n",
      "Attempts 2: u\n",
      "s u s u\n",
      "\n",
      "YOU ARE SAFE!\n",
      "Do you want to play again? (y/n): n\n"
     ]
    }
   ],
   "source": [
    "# Nomer 2 (Hangman)\n",
    "# Cara pertama\n",
    "\n",
    "import random\n",
    "\n",
    "hangman = ['_____\\n',\n",
    "           '|   |\\n',\n",
    "           '|   O\\n',\n",
    "           '|  /|\\\\ \\n',\n",
    "           '|  / \\\\ \\n',\n",
    "           '|____'\n",
    "]\n",
    "con = True\n",
    "\n",
    "while con == True:\n",
    "    i = random.randint(0,2) # 0\n",
    "    att = 1\n",
    "    punish = ''\n",
    "    false_answer = 0\n",
    "    questions = ['4 huruf! Temannya Zebra', '5 huruf! Tempat tinggal', '4 huruf! Minuman khusus bayi']\n",
    "    answer = ['kuda', 'rumah', 'susu']\n",
    "    print(f\"\\n ****** HANGMAN ****** \\n {questions[i]}\")\n",
    "    secret = answer[i]\n",
    "    blank = ('_ '*len(secret)).split() # ['_', '_', '_', '_', '_']\n",
    "    # ['_____']\n",
    "\n",
    "    while att <= 1000:\n",
    "        ans = input(f'Attempts {att}: ')\n",
    "        if len(ans) > 1:\n",
    "            print('Only one character at the time.')\n",
    "            ans = input(f'Attempts {att}: ')\n",
    "        if ans in secret: # ans = r /// secret = rumah\n",
    "            for i in range(0,len(secret)): # [0,1,2,3,4]\n",
    "                #  secret[4] == 'u'\n",
    "                if secret[i] == ans: # r u m a h\n",
    "                    blank[i] = ans #  [r u _ _ _ ]\n",
    "            print(' '.join(blank))\n",
    "            print(punish)\n",
    "            if '_' not in blank:\n",
    "                print('YOU ARE SAFE!')\n",
    "                play = input(\"Do you want to play again? (y/n): \")\n",
    "                if play == 'n':\n",
    "                    con = False\n",
    "                    break\n",
    "                elif play == 'y':\n",
    "                    con = True\n",
    "                    break\n",
    "            else:\n",
    "                att += 1\n",
    "        else:\n",
    "            false_answer += 1\n",
    "            if false_answer == 1:\n",
    "                print(' '.join(blank))\n",
    "                punish += hangman[false_answer-1]\n",
    "                print(punish)\n",
    "                att += 1\n",
    "            elif false_answer == 2:\n",
    "                print(' '.join(blank))\n",
    "                punish += hangman[false_answer-1]\n",
    "                print(punish)\n",
    "                att += 1\n",
    "            elif false_answer == 3:\n",
    "                print(' '.join(blank))\n",
    "                punish += hangman[false_answer-1]\n",
    "                print(punish)\n",
    "                att += 1\n",
    "            elif false_answer == 4:\n",
    "                print(' '.join(blank))\n",
    "                punish += hangman[false_answer-1]\n",
    "                print(punish)\n",
    "                att += 1\n",
    "            elif false_answer == 5:\n",
    "                print(' '.join(blank))\n",
    "                punish += hangman[false_answer-1]\n",
    "                print(punish)\n",
    "                att += 1\n",
    "            elif false_answer == 6:\n",
    "                print(' '.join(blank))\n",
    "                punish += hangman[false_answer-1]\n",
    "                print(punish)\n",
    "                print('YOU ARE DEAD\\n')\n",
    "                play = input(\"Do you want to play again? (y/n): \").lower()\n",
    "                if play == 'n':\n",
    "                    con = False\n",
    "                    break\n",
    "                elif play == 'y':\n",
    "                    con = True\n",
    "                    break\n",
    "                else:\n",
    "                    con = False\n",
    "                    break\n",
    "    # print(blank)\n",
    "\n",
    "\n",
    "\n",
    "\n",
    "\n",
    "\n",
    "\n"
   ]
  },
  {
   "cell_type": "markdown",
   "metadata": {},
   "source": [
    "# Tugas Hari ke-8"
   ]
  },
  {
   "cell_type": "code",
   "execution_count": 12,
   "metadata": {},
   "outputs": [
    {
     "name": "stdout",
     "output_type": "stream",
     "text": [
      "3\n",
      "0\n",
      "1\n",
      "YES\n"
     ]
    }
   ],
   "source": [
    "# People in line\n",
    "# Cara Pertama\n",
    "\n",
    "number = [25,100,25,25]\n",
    "jumlah_25 = 0\n",
    "jumlah_50 = 0\n",
    "jumlah_100 = 0\n",
    "for i in range(len(number)):\n",
    "    if number[i] == 25:\n",
    "        jumlah_25 += 1\n",
    "\n",
    "for i in range(len(number)):\n",
    "    if number[i] == 50:\n",
    "        jumlah_50 += 1\n",
    "\n",
    "for i in range(len(number)):\n",
    "    if number[i] == 100:\n",
    "        jumlah_100 += 1\n",
    "\n",
    "print(jumlah_25)\n",
    "print(jumlah_50)\n",
    "print(jumlah_100)\n",
    "\n",
    "if number[0] == 100 or number[0] == 50:\n",
    "    print('NO')\n",
    "\n",
    "else:\n",
    "\n",
    "    if jumlah_100 == 0:\n",
    "        if jumlah_25 >= jumlah_50:\n",
    "            print('YES')\n",
    "        else:\n",
    "            print('NO')\n",
    "    elif jumlah_50 == 0:\n",
    "        if jumlah_25 >= 3*jumlah_100:\n",
    "            print('YES')\n",
    "        else:\n",
    "            print('NO')\n",
    "    elif jumlah_25 > jumlah_50:\n",
    "        if jumlah_50 > jumlah_100:\n",
    "            print('YES')\n",
    "        elif jumlah_25 == 2 and jumlah_50==jumlah_100:\n",
    "            print('YES')\n",
    "        else:\n",
    "            if jumlah_25 >= 4 and jumlah_25 > jumlah_50 and jumlah_50 >= jumlah_100:\n",
    "                print('YES')\n",
    "            else:\n",
    "                print('NO')\n",
    "    elif jumlah_25 == jumlah_50:\n",
    "        print('NO')\n"
   ]
  },
  {
   "cell_type": "code",
   "execution_count": 5,
   "metadata": {},
   "outputs": [
    {
     "ename": "NameError",
     "evalue": "name 'test_arg' is not defined",
     "output_type": "error",
     "traceback": [
      "\u001b[1;31m---------------------------------------------------------------------------\u001b[0m",
      "\u001b[1;31mNameError\u001b[0m                                 Traceback (most recent call last)",
      "\u001b[1;32m<ipython-input-5-09ab731d7044>\u001b[0m in \u001b[0;36m<module>\u001b[1;34m\u001b[0m\n\u001b[0;32m     67\u001b[0m \u001b[1;33m\u001b[0m\u001b[0m\n\u001b[0;32m     68\u001b[0m \u001b[1;33m\u001b[0m\u001b[0m\n\u001b[1;32m---> 69\u001b[1;33m \u001b[0mprint\u001b[0m\u001b[1;33m(\u001b[0m\u001b[0mtickets\u001b[0m\u001b[1;33m(\u001b[0m\u001b[0mtest_arg\u001b[0m\u001b[1;33m)\u001b[0m\u001b[1;33m)\u001b[0m\u001b[1;33m\u001b[0m\u001b[1;33m\u001b[0m\u001b[0m\n\u001b[0m",
      "\u001b[1;31mNameError\u001b[0m: name 'test_arg' is not defined"
     ]
    }
   ],
   "source": [
    "# cara kedua\n",
    "# Teka teki - Benedict Laiman - 20201102\n",
    "def tickets(peopleInLine):\n",
    "    money_list = [money for money in peopleInLine]\n",
    "    money_list2 = []\n",
    "    for people in range(len(money_list)):\n",
    "        if money_list[people] == 25:\n",
    "            money_list2.append(money_list[people])\n",
    "            money_list[people] = 0\n",
    "\n",
    "            ###  Ini Catt yg gbsa  ###\n",
    "            # money_list.pop(money_list.index(25))\n",
    "            # del money_list[people]  # error d sini, index out of range\n",
    "            # money_list.pop(people)\n",
    "            # money_list.pop(money_list[people])\n",
    "            # money_list2.append(money_list[people])\n",
    "            # money_list.remove(money_list[people])\n",
    "            # del money_list[people]  # error d sini, index out of range\n",
    "            # print(money_list[people])  # checker\n",
    "            ###  Ini Catt yg gbsa  ###\n",
    "            \n",
    "        elif money_list[people] == 50:\n",
    "            if 25 in money_list2:\n",
    "                money_list2.append(money_list[people])\n",
    "                money_list[people] = 0\n",
    "                money_list2.pop(money_list2.index(25))\n",
    "\n",
    "                ###  Ini Catt yg gbsa  ###\n",
    "                # money_list2[people] = money_list[people]\n",
    "                # money_list2.append(money_list.pop(money_list.index(50)))\n",
    "                ###  Ini Catt yg gbsa  ###\n",
    "\n",
    "            else:\n",
    "                print('No money')  # ini dari 'return' dibuat jadi 'print' buat nge test print(moneylist/ moneylist2)\n",
    "        elif money_list[people] == 100:\n",
    "            if (50 in money_list2) and (25 in money_list2):\n",
    "                money_list2.append(money_list[people])\n",
    "                money_list[people] = 0\n",
    "                money_list2.pop(money_list2.index(25))\n",
    "                money_list2.pop(money_list2.index(50))\n",
    "\n",
    "                ###  Ini Catt yg gbsa  ###\n",
    "                #  money_list2.pop(money_list2.index(25))\n",
    "                #  money_list2.pop(money_list2.index(50))\n",
    "                #  money_list2.append(money_list.pop(money_list.index(100)))\n",
    "                ###  Ini Catt yg gbsa  ###\n",
    "\n",
    "            elif money_list2.count(25) >= 3:\n",
    "                money_list2.append(money_list[people])\n",
    "                money_list[people] = 0\n",
    "                money_list2.pop(money_list2.index(25))\n",
    "                money_list2.pop(money_list2.index(25))\n",
    "                money_list2.pop(money_list2.index(25))\n",
    "\n",
    "                ###  Ini Catt yg gbsa  ###\n",
    "                # money_list2.append(money_list.pop(money_list.index(100)))\n",
    "                ###  Ini Catt yg gbsa  ###\n",
    "\n",
    "            else:\n",
    "                print('No money')  # ini dari 'return' dibuat jadi 'print' buat nge test print(moneylist/ moneylist2)\n",
    "    if (25 not in money_list) and (50 not in money_list) and (100 not in money_list):\n",
    "        print('YES')  # ini dari 'return' dibuat jadi 'print' buat nge test print(moneylist/ moneylist2)\n",
    "    else:\n",
    "        print('NO')  # ini dari 'return' dibuat jadi 'print' buat nge test print(moneylist/ moneylist2)\n",
    "    print(money_list)\n",
    "    print(money_list2)\n",
    "\n",
    "\n",
    "print(tickets(test_arg))"
   ]
  },
  {
   "cell_type": "code",
   "execution_count": 7,
   "metadata": {},
   "outputs": [
    {
     "name": "stdout",
     "output_type": "stream",
     "text": [
      "Hello, anda pelanggan ke :1, harga tiket 25 USD, berapa uang yang ingin anda bayarkan?\n",
      "\n",
      "hanya menerima 25 USD, 50 USD dan 100 USD, uang anda :25USD\n",
      "Selamat, anda mendapat tiket! Happy watching! \n",
      "\n",
      "Jumlah uang Vasya sekarangg 25\n",
      "{25: 1, 50: 0, 100: 0}\n",
      "Hello, anda pelanggan ke :2, harga tiket 25 USD, berapa uang yang ingin anda bayarkan?\n",
      "\n",
      "hanya menerima 25 USD, 50 USD dan 100 USD, uang anda :25USD\n",
      "Selamat, anda mendapat tiket! Happy watching! \n",
      "\n",
      "Jumlah uang Vasya sekarangg 50\n",
      "{25: 2, 50: 0, 100: 0}\n",
      "Hello, anda pelanggan ke :3, harga tiket 25 USD, berapa uang yang ingin anda bayarkan?\n",
      "\n",
      "hanya menerima 25 USD, 50 USD dan 100 USD, uang anda :50USD\n",
      "Selamat, anda mendapat tiket! Happy watching! \n",
      "\n",
      "Jumlah uang Vasya sekarangg 75\n",
      "{25: 1, 50: 1, 100: 0}\n"
     ]
    }
   ],
   "source": [
    "# Cara Ketiga\n",
    "\n",
    "hrg_tiket = 25\n",
    "duit_di_kasir = {   25 : 0,\n",
    "                    50 : 0,\n",
    "                    100 : 0,\n",
    "                }\n",
    "\n",
    "pelanggan = 0\n",
    "list_ticket = [25,25,50]\n",
    "\n",
    "def bioskop_buka(): \n",
    "  global pelanggan  \n",
    "  for i in list_ticket:\n",
    "        pelanggan += 1\n",
    "        print(f'Hello, anda pelanggan ke :{pelanggan}, harga tiket 25 USD, berapa uang yang ingin anda bayarkan?\\n')\n",
    "        print(f'hanya menerima 25 USD, 50 USD dan 100 USD, uang anda :{i}USD')\n",
    "        duit = i\n",
    "        if duit == 25:\n",
    "            duit_di_kasir[duit] += 1\n",
    "            kasir = sum(k*v for k,v in duit_di_kasir.items())\n",
    "            print('Selamat, anda mendapat tiket! Happy watching! \\n')\n",
    "            print('Jumlah uang Vasya sekarangg',kasir)\n",
    "            print(duit_di_kasir)\n",
    "            \n",
    "        elif duit == 50 :\n",
    "            if duit_di_kasir[25] > 0 :\n",
    "              duit_di_kasir[duit] += 1\n",
    "              duit_di_kasir[25] -= 1\n",
    "              kasir = sum(k*v for k,v in duit_di_kasir.items())\n",
    "              print('Selamat, anda mendapat tiket! Happy watching! \\n')\n",
    "              print('Jumlah uang Vasya sekarangg',kasir)\n",
    "              print(duit_di_kasir)\n",
    "            else :\n",
    "              print('Tidak ada kembalian, next customer please')\n",
    "              break\n",
    "\n",
    "        else :\n",
    "            if duit_di_kasir[25] > 0 and duit_di_kasir[50] > 0 :\n",
    "                duit_di_kasir[duit] += 1\n",
    "                duit_di_kasir[25] -= 1\n",
    "                duit_di_kasir[50] -= 1\n",
    "                kasir = sum(k*v for k,v in duit_di_kasir.items())\n",
    "                print('Selamat, anda mendapat tiket! Happy watching! \\n')\n",
    "                print('Jumlah uang Vasya sekarangg',kasir)\n",
    "                print(duit_di_kasir)\n",
    "              \n",
    "            elif duit_di_kasir[25] > 2 :\n",
    "                duit_di_kasir[duit] += 1\n",
    "                duit_di_kasir[25] -= 3\n",
    "                kasir = sum(k*v for k,v in duit_di_kasir.items())\n",
    "                print('Selamat, anda mendapat tiket! Happy watching! ')\n",
    "                print('Jumlah uang Vasya sekarangg',kasir)\n",
    "                print(duit_di_kasir)\n",
    "\n",
    "            else :\n",
    "                print('Tidak ada kembalian, next customer please')\n",
    "                break\n",
    "\n",
    "bioskop_buka()"
   ]
  },
  {
   "cell_type": "code",
   "execution_count": 8,
   "metadata": {},
   "outputs": [
    {
     "name": "stdout",
     "output_type": "stream",
     "text": [
      "Yes, Vasya has enough change\n",
      "[25]\n",
      "[]\n"
     ]
    }
   ],
   "source": [
    "# Cara Keempat\n",
    "list_tiket_avengers = [25, 25, 25, 50, 100]\n",
    "\n",
    "def ticket(list_tiket):\n",
    "    kembalian = False\n",
    "    list_25 = []\n",
    "    list_50 = []\n",
    "    list_kembalian_50 = []\n",
    "    list_kembalian_100 = []\n",
    "    for tiket in list_tiket:\n",
    "        if tiket == 25:\n",
    "            list_25.append(25)\n",
    "        elif tiket == 50:\n",
    "            list_kembalian_50.append(25)\n",
    "            if sum(list_kembalian_50) <= sum(list_25):\n",
    "                list_25.remove(25)                                        \n",
    "                list_50.append(50)\n",
    "            else:                \n",
    "                 kembalian = True\n",
    "                 break                                       \n",
    "        else:\n",
    "            list_kembalian_100.append(75)           \n",
    "            if sum(list_kembalian_100) <= sum(list_25) + sum(list_50) and sum(list_50) != 0:               \n",
    "                list_25.remove(25)\n",
    "                list_50.remove(50)\n",
    "            elif sum(list_kembalian_100) <= sum(list_25):\n",
    "                del list_25[0:3]           \n",
    "            else:                \n",
    "                kembalian = True\n",
    "                break \n",
    "\n",
    "    if kembalian == True:\n",
    "        print(\"No, Vasya does not have enough change\")\n",
    "    else:\n",
    "        print(\"Yes, Vasya has enough change\") \n",
    "    print(list_25)\n",
    "    print(list_50)\n",
    "\n",
    "ticket(list_tiket_avengers)"
   ]
  },
  {
   "cell_type": "code",
   "execution_count": null,
   "metadata": {},
   "outputs": [],
   "source": [
    "# Cara kelima\n",
    "def tickets(peopleInLine):\n",
    "    x = 0 #jumlah uang 25\n",
    "    y = 0 #jumlah uang 50\n",
    "    z = 0 #jumlah uang 100\n",
    "    for i in peopleInLine:\n",
    "        if x <0 :  \n",
    "            print('NO')\n",
    "        else:\n",
    "            if i == 25:\n",
    "                x += 1\n",
    "                print('YES')\n",
    "                \n",
    "            elif i ==50:\n",
    "                if x>=1:\n",
    "                    x-=1\n",
    "                    y +=1\n",
    "                    print('YES')\n",
    "                else:\n",
    "                    print('NO')\n",
    "                    break\n",
    "            elif i ==100: \n",
    "                if x>=3 and y<1:\n",
    "                    x-=3\n",
    "                    z +=1\n",
    "                    print('YES')\n",
    "                elif x >=1 and y >=1:\n",
    "                    x-=1\n",
    "                    y -=1\n",
    "                    z +=1\n",
    "                    print('YES')\n",
    "                else:\n",
    "                    print('NO')\n",
    "                    break\n",
    "\n",
    "                    \n",
    "    # print(x)\n",
    "    # print(f'sisa uang adalah {x*25}')\n",
    "    print(f'pecahan 25 ada {x} lembar')\n",
    "    print(f'pecahan 50 ada {y} lembar')\n",
    "    print(f'pecahan 100 ada {z} lembar')\n",
    "tickets([25,25,50,100,100])"
   ]
  },
  {
   "cell_type": "code",
   "execution_count": null,
   "metadata": {},
   "outputs": [],
   "source": [
    "# Cara Keenam\n",
    "'''\n",
    "Line of people (Evan Kanigara)\n",
    "'''\n",
    "x=0\n",
    "y=0\n",
    "z=0\n",
    "uang=[25,25,25,25,25,2550,100]\n",
    "flag=True\n",
    "for i in uang:\n",
    "    if i==25:\n",
    "        x+=1  # x = 0     \n",
    "    elif i==50:\n",
    "        y+=1   # y = 1\n",
    "        if x>0:\n",
    "            x-=1            \n",
    "        else:\n",
    "            flag=False            \n",
    "    elif i==100:\n",
    "        z+=100            # z = 1\n",
    "        if x>0 and y>0:\n",
    "            x-=1\n",
    "            y-=1            \n",
    "        elif x>=3:\n",
    "            x-=3            \n",
    "        else:\n",
    "            flag=False            \n",
    "\n",
    "if(flag):\n",
    "    print('YES')\n",
    "else:\n",
    "    print('NO')"
   ]
  },
  {
   "cell_type": "markdown",
   "metadata": {},
   "source": [
    "# Tugas Hari ke-10"
   ]
  },
  {
   "cell_type": "markdown",
   "metadata": {},
   "source": [
    "## Nomer 1"
   ]
  },
  {
   "cell_type": "markdown",
   "metadata": {},
   "source": [
    "##### Cara Pertama"
   ]
  },
  {
   "cell_type": "code",
   "execution_count": null,
   "metadata": {},
   "outputs": [],
   "source": [
    "import math\n",
    "detik = int(input('Masukkan second yang anda inginkan:'))\n",
    "def timeConverter(second):\n",
    "    if 0 < second <= 359999:\n",
    "        depan = math.floor(second/3600)\n",
    "        tengah = math.floor((second%3600)/60)\n",
    "        if tengah == 0 :\n",
    "            pinggir = second%3600\n",
    "        else:\n",
    "            pinggir =  ((second%3600))%60\n",
    "        a = \"%02d\"%depan\n",
    "        b = \"%02d\"%tengah\n",
    "        c = \"%02d\"%pinggir\n",
    "        print(f'{a}:{b}:{c}')\n",
    "     \n",
    "    else: \n",
    "        print('invalid input')\n",
    "\n",
    "timeConverter(detik)\n"
   ]
  },
  {
   "cell_type": "markdown",
   "metadata": {},
   "source": [
    "##### Cara Kedua"
   ]
  },
  {
   "cell_type": "code",
   "execution_count": null,
   "metadata": {},
   "outputs": [],
   "source": []
  },
  {
   "cell_type": "markdown",
   "metadata": {},
   "source": [
    "## Nomer 2"
   ]
  },
  {
   "cell_type": "markdown",
   "metadata": {},
   "source": [
    "##### `Cara Pertama"
   ]
  },
  {
   "cell_type": "code",
   "execution_count": 79,
   "metadata": {},
   "outputs": [
    {
     "name": "stdout",
     "output_type": "stream",
     "text": [
      "masukkan kalimat/kata anda: makan\n",
      "OCMCP"
     ]
    }
   ],
   "source": [
    "kata = {\n",
    "    'A':'C',\n",
    "    'B':'D',\n",
    "    'C':'E',\n",
    "    'D':'F',\n",
    "    'E':'G',\n",
    "    'F':'H',\n",
    "    'G':'I',\n",
    "    'H':'J',\n",
    "    'I':'K',\n",
    "    'J':'L',\n",
    "    'K':'M',\n",
    "    'L':'N',\n",
    "    'M':'O',\n",
    "    'N':'P',\n",
    "    'O':'Q',\n",
    "    'P':'R',\n",
    "    'Q':'S',\n",
    "    'R':'T',\n",
    "    'S':'U',\n",
    "    'T':'V',\n",
    "    'U':'W',\n",
    "    'V':'X',\n",
    "    'W':'Y',\n",
    "    'X':'Z',\n",
    "    'Y':'A',\n",
    "    'Z':'B',\n",
    "    ' ':' '\n",
    "    \n",
    "}\n",
    "\n",
    "word = input('masukkan kalimat/kata anda: ').upper()\n",
    "# word2 = [char for char in word] \n",
    "\n",
    "for i in word:\n",
    "    print(kata[i],end='')\n",
    "    "
   ]
  },
  {
   "cell_type": "markdown",
   "metadata": {},
   "source": [
    "##### Cara Kedua"
   ]
  },
  {
   "cell_type": "code",
   "execution_count": 66,
   "metadata": {},
   "outputs": [
    {
     "name": "stdout",
     "output_type": "stream",
     "text": [
      "Masukkan text anda : aku makan\n",
      "cmw ocmcp\n"
     ]
    }
   ],
   "source": [
    "# enkripsi - ben\n",
    "\n",
    "placeholder = 'abcdefghijklmnopqrstuvwxyz'\n",
    "text_user = input('Masukkan text anda : ').lower()\n",
    "text_output = []\n",
    "\n",
    "for i in text_user:\n",
    "    if i == ' ':\n",
    "        text_output.append(' ')\n",
    "    else:\n",
    "        if i == 'y':\n",
    "            text_output.append('a')\n",
    "        elif i == 'z':\n",
    "            text_output.append('b')\n",
    "        else:\n",
    "            text_output.append(placeholder[placeholder.index(i) + 2])\n",
    "print(''.join(text_output))"
   ]
  },
  {
   "cell_type": "markdown",
   "metadata": {},
   "source": [
    "##### Cara Ketiga"
   ]
  },
  {
   "cell_type": "code",
   "execution_count": 67,
   "metadata": {},
   "outputs": [
    {
     "name": "stdout",
     "output_type": "stream",
     "text": [
      "Masukkan kata: aku makan\n",
      "Hasil enkripsi dari AKU MAKAN adalah CMW OCMCP\n"
     ]
    }
   ],
   "source": [
    "# enkripsi\n",
    "\n",
    "huruf = 'abcdefghijklmnopqrstuvwxyz'\n",
    "listhuruf = [i for i in huruf]\n",
    "enkripsi = listhuruf[2:]+listhuruf[:2]\n",
    "# print(enkripsi)\n",
    "kata = input('Masukkan kata: ').lower()\n",
    "hasil = ''\n",
    "for i in kata:\n",
    "    if i in huruf:\n",
    "        hasil += enkripsi[listhuruf.index(i)]\n",
    "    elif i == ' ':\n",
    "        hasil += ' '\n",
    "    else:\n",
    "        print('Put only letters!')\n",
    "print(f'Hasil enkripsi dari {kata.upper()} adalah {hasil.upper()}')"
   ]
  },
  {
   "cell_type": "markdown",
   "metadata": {},
   "source": [
    "##### Cara keempat"
   ]
  },
  {
   "cell_type": "code",
   "execution_count": 78,
   "metadata": {},
   "outputs": [
    {
     "name": "stdout",
     "output_type": "stream",
     "text": [
      "masukkan kata anda: c\n",
      "e\n"
     ]
    }
   ],
   "source": [
    "huruf = 'abcdefghijklmnopqrstuvwxyz'\n",
    "hasil = ''\n",
    "masuk = input('masukkan kata anda: ')\n",
    "\n",
    "for c in masuk:\n",
    "    if c == ' ':\n",
    "        hasil += ' '\n",
    "    elif c == 'y':\n",
    "        hasil += 'a'\n",
    "    elif c == 'z':\n",
    "        hasil += 'b'\n",
    "    else:\n",
    "        hasil += huruf[huruf.index(c)+2]\n",
    "print(hasil)"
   ]
  },
  {
   "cell_type": "markdown",
   "metadata": {},
   "source": [
    "##### Cara kelima"
   ]
  },
  {
   "cell_type": "code",
   "execution_count": 80,
   "metadata": {},
   "outputs": [
    {
     "name": "stdout",
     "output_type": "stream",
     "text": [
      "masukkan kalimat/kata anda: makan\n",
      "OCMCP\n"
     ]
    }
   ],
   "source": [
    "kata = {\n",
    "    'A':'C',\n",
    "    'B':'D',\n",
    "    'C':'E',\n",
    "    'D':'F',\n",
    "    'E':'G',\n",
    "    'F':'H',\n",
    "    'G':'I',\n",
    "    'H':'J',\n",
    "    'I':'K',\n",
    "    'J':'L',\n",
    "    'K':'M',\n",
    "    'L':'N',\n",
    "    'M':'O',\n",
    "    'N':'P',\n",
    "    'O':'Q',\n",
    "    'P':'R',\n",
    "    'Q':'S',\n",
    "    'R':'T',\n",
    "    'S':'U',\n",
    "    'T':'V',\n",
    "    'U':'W',\n",
    "    'V':'X',\n",
    "    'W':'Y',\n",
    "    'X':'Z',\n",
    "    'Y':'A',\n",
    "    'Z':'B',\n",
    "    ' ':' '\n",
    "    \n",
    "}\n",
    "\n",
    "kalimat = input('masukkan kalimat/kata anda: ').upper()\n",
    "# word2 = [char for char in word] \n",
    "kalimat_encrypted = ''\n",
    "for i in kalimat:\n",
    "    kalimat_encrypted += kata[i]\n",
    "    \n",
    "print( kalimat_encrypted)\n",
    "    "
   ]
  },
  {
   "cell_type": "markdown",
   "metadata": {},
   "source": [
    "##### Cara Pak Ridho"
   ]
  },
  {
   "cell_type": "code",
   "execution_count": 77,
   "metadata": {},
   "outputs": [
    {
     "name": "stdout",
     "output_type": "stream",
     "text": [
      "masukkan kata: a b\n",
      "Encrypt A B to C D\n"
     ]
    }
   ],
   "source": [
    "def encryptor(word):\n",
    "    abjad = list('abcdefghijklmnopqrstuvwxyz')\n",
    "    words = word.lower() # ridho\n",
    "    encrypt = ''  a b\n",
    "    for c in words: # ridho => r word = 'a\n",
    "        if c != ' ':\n",
    "            #          (8 + 2)%26\n",
    "            #           0+2=2\n",
    "            index = (abjad.index(c) + 2)%len(abjad) # 2\n",
    "            encrypt += abjad[index]\n",
    "        else:\n",
    "            encrypt += ' '\n",
    "    return encrypt\n",
    "\n",
    "\n",
    "\n",
    "\n",
    "message = input('masukkan kata: ')\n",
    "result_encrypt= encryptor(message)\n",
    "print(f'Encrypt {message.upper()} to {result_encrypt.upper()}')\n"
   ]
  },
  {
   "cell_type": "markdown",
   "metadata": {},
   "source": [
    "## Nomer 3"
   ]
  },
  {
   "cell_type": "markdown",
   "metadata": {},
   "source": [
    "##### Cara Pertama"
   ]
  },
  {
   "cell_type": "code",
   "execution_count": 74,
   "metadata": {},
   "outputs": [
    {
     "name": "stdout",
     "output_type": "stream",
     "text": [
      "How tall? 20\n",
      "* * * * * * * * * * * * * * * * * * * \n",
      "  * * * * * * * * * * * * * * * * * \n",
      "    * * * * * * * * * * * * * * * \n",
      "      * * * * * * * * * * * * * \n",
      "        * * * * * * * * * * * \n",
      "          * * * * * * * * * \n",
      "            * * * * * * * \n",
      "              * * * * * \n",
      "                * * * \n",
      "                  * \n",
      "                * * * \n",
      "              * * * * * \n",
      "            * * * * * * * \n",
      "          * * * * * * * * * \n",
      "        * * * * * * * * * * * \n",
      "      * * * * * * * * * * * * * \n",
      "    * * * * * * * * * * * * * * * \n",
      "  * * * * * * * * * * * * * * * * * \n",
      "* * * * * * * * * * * * * * * * * * * \n",
      "\n"
     ]
    }
   ],
   "source": [
    "tinggi = int(input('How tall? '))\n",
    "# tinggi = 19\n",
    "if tinggi%2 == 0:\n",
    "    tinggi -= 1\n",
    "tengah = int(tinggi/2) + 1\n",
    "z = ''\n",
    "for i in range(tengah):\n",
    "    z += '  '*i+'* '*(tinggi-i*2)+'\\n'\n",
    "for i in reversed(range(tengah)):\n",
    "    if i == tengah-1:\n",
    "        continue\n",
    "    else:\n",
    "        z += '  '*i+'* '*(tinggi-i*2)+'\\n'\n",
    "print(z)"
   ]
  },
  {
   "cell_type": "markdown",
   "metadata": {},
   "source": [
    "##### Cara Kedua"
   ]
  },
  {
   "cell_type": "code",
   "execution_count": 70,
   "metadata": {},
   "outputs": [
    {
     "name": "stdout",
     "output_type": "stream",
     "text": [
      "Masukkan angka tersera bro9\n",
      "   * * * * * * * * * \n",
      "     * * * * * * * \n",
      "       * * * * * \n",
      "         * * * \n",
      "           * \n",
      "         * * * \n",
      "       * * * * * \n",
      "     * * * * * * * \n",
      "   * * * * * * * * * \n"
     ]
    }
   ],
   "source": [
    "bintang_bint =int(input(\"Masukkan angka tersera bro\"))\n",
    "\n",
    "if bintang_bint%2 ==0 :\n",
    "    bintang = bintang_bint//2\n",
    "else:\n",
    "    bintang = bintang_bint//2+1\n",
    "\n",
    "for i in reversed(range(0,bintang)):\n",
    "    for k in range(0,bintang-i):\n",
    "        print(\"  \",end=\"\")\n",
    "    for j in range(0,i*2):\n",
    "        print(\" *\",end=\"\")\n",
    "    print(\" * \")\n",
    "\n",
    "    \n",
    "for i in range(0,bintang):\n",
    "    if i == 0 :\n",
    "        continue\n",
    "    else :\n",
    "        for k in range(0,bintang-i):\n",
    "            print(\"  \",end=\"\")\n",
    "        for j in range(0,i*2):\n",
    "            print(\" *\",end=\"\")\n",
    "        print(\" * \")"
   ]
  },
  {
   "cell_type": "markdown",
   "metadata": {},
   "source": [
    "##### Cara Pak Ridho"
   ]
  },
  {
   "cell_type": "code",
   "execution_count": 73,
   "metadata": {},
   "outputs": [
    {
     "name": "stdout",
     "output_type": "stream",
     "text": [
      "How tall?:8\n",
      "-  * * * * * * *\n",
      "---  * * * * *\n",
      "-----  * * *\n",
      "-------  *\n",
      "-----  * * *\n",
      "---  * * * * *\n",
      "-  * * * * * * *\n"
     ]
    }
   ],
   "source": [
    "b = int(input('How tall?:')) #20\n",
    "a = 1\n",
    "for i in range(b-1,0,-2): # [19, 17, 15, 13, 11, 9, 7, 5, 3, 1] \n",
    "    print('-'*(b-i), ' *'*(i)) #\n",
    "for ii in range(a+2,b,2): # [3, 5, 7, 9, 11, 13, 15, 17, 19] \n",
    "    print('-'*(b-ii), ' *'*(ii))"
   ]
  },
  {
   "cell_type": "markdown",
   "metadata": {},
   "source": [
    "## Tugas Hari ke-12"
   ]
  },
  {
   "cell_type": "markdown",
   "metadata": {},
   "source": [
    "##### Nomer 1a"
   ]
  },
  {
   "cell_type": "code",
   "execution_count": 1,
   "metadata": {},
   "outputs": [
    {
     "name": "stdout",
     "output_type": "stream",
     "text": [
      "masukkan nomer keberuntungan anda: 6\n",
      "[1, 2, 3, 4, 5, 6]\n",
      "['1', '2', '3', '4', '5', '6']\n",
      "1\n",
      "12\n",
      "123\n",
      "1234\n",
      "12345\n",
      "123456\n",
      "\n"
     ]
    }
   ],
   "source": [
    "number = int(input('masukkan nomer keberuntungan anda: '))\n",
    "j = []\n",
    "k = []\n",
    "z = ''\n",
    "\n",
    "for i in range(1, number+1):\n",
    "    j.append(i)\n",
    "print(j)\n",
    "for char in j:\n",
    "    k.append(str(char))\n",
    "print(k) \n",
    "for i in j:\n",
    "    for l in range(i):\n",
    "        z += k[l]\n",
    "    z += '\\n'\n",
    "print(z)"
   ]
  },
  {
   "cell_type": "markdown",
   "metadata": {},
   "source": [
    "##### Nomer 1b"
   ]
  },
  {
   "cell_type": "code",
   "execution_count": 2,
   "metadata": {},
   "outputs": [
    {
     "name": "stdout",
     "output_type": "stream",
     "text": [
      "masukkan nomer keberuntungan anda: 6\n",
      "[1, 2, 3, 4, 5, 6]\n",
      "['1', '2', '3', '4', '5', '6']\n",
      "123456\n",
      "12345\n",
      "1234\n",
      "123\n",
      "12\n",
      "1\n",
      "\n"
     ]
    }
   ],
   "source": [
    "number = int(input('masukkan nomer keberuntungan anda: '))\n",
    "j = []\n",
    "k = []\n",
    "star= ''\n",
    "\n",
    "for i in range(1, number+1):\n",
    "    j.append(i)\n",
    "print(j)\n",
    "for char in j:\n",
    "    k.append(str(char))\n",
    "print(k) \n",
    "for i in range(len(j), 0, -1): # [7,6,5,4,3,2,1]\n",
    "    for l in range(0, i): # [0,1,2,3,4,5,6,]\n",
    "        star += k[l]\n",
    "    star += '\\n'\n",
    "print(star)"
   ]
  },
  {
   "cell_type": "markdown",
   "metadata": {},
   "source": [
    "##### Nomer 1c"
   ]
  },
  {
   "cell_type": "code",
   "execution_count": 3,
   "metadata": {},
   "outputs": [
    {
     "name": "stdout",
     "output_type": "stream",
     "text": [
      "masukkan nomer keberuntungan anda: 10\n",
      "[1, 2, 3, 4, 5, 6, 7, 8, 9, 10]\n",
      "['1', '2', '3', '4', '5', '6', '7', '8', '9', '10']\n",
      " 1\n",
      " 1 2\n",
      " 1 2 3\n",
      " 1 2 3 4\n",
      " 1 2 3 4 5\n",
      " 1 2 3 4 5 6\n",
      " 1 2 3 4 5 6 7\n",
      " 1 2 3 4 5 6 7 8\n",
      " 1 2 3 4 5 6 7 8 9\n",
      " 1 2 3 4 5 6 7 8 9 10\n",
      " 1 2 3 4 5 6 7 8 9\n",
      " 1 2 3 4 5 6 7 8\n",
      " 1 2 3 4 5 6 7\n",
      " 1 2 3 4 5 6\n",
      " 1 2 3 4 5\n",
      " 1 2 3 4\n",
      " 1 2 3\n",
      " 1 2\n",
      " 1\n",
      "\n"
     ]
    }
   ],
   "source": [
    "number = int(input('masukkan nomer keberuntungan anda: '))\n",
    "j = []\n",
    "k = []\n",
    "z= ''\n",
    "\n",
    "for i in range(1, number+1):\n",
    "    j.append(i)\n",
    "print(j)\n",
    "for char in j:\n",
    "    k.append(str(char))\n",
    "print(k) \n",
    "\n",
    "for i in j:\n",
    "    for l in range(i):\n",
    "        z +=' '+k[l]\n",
    "    z += '\\n'\n",
    "\n",
    "del k[-1]\n",
    "del j[-1]\n",
    "for i in range(len(j), 0, -1): # [7,6,5,4,3,2,1]\n",
    "    for l in range(0, i): # [0,1,2,3,4,5,6,]\n",
    "        z +=' '+ k[l]\n",
    "    z += '\\n'\n",
    "print(z)"
   ]
  },
  {
   "cell_type": "markdown",
   "metadata": {},
   "source": [
    "##### Nomer 2"
   ]
  },
  {
   "cell_type": "code",
   "execution_count": 1,
   "metadata": {},
   "outputs": [
    {
     "name": "stdout",
     "output_type": "stream",
     "text": [
      "masukkan kalimat anda: this is a another test\n",
      "['this', 'is', 'a', 'another', 'test']\n",
      "['this', 'is', 'a', 'rehtona', 'test']\n",
      "this is a rehtona test\n"
     ]
    }
   ],
   "source": [
    "# Nomer 2\n",
    "\n",
    "kata = input('masukkan kalimat anda: ').split()\n",
    "\n",
    "def spinwords(string):\n",
    "    print(kata)\n",
    "    kata2 = []\n",
    "\n",
    "    for i in kata:\n",
    "        if len(i) < 5:\n",
    "            kata2.append(i)\n",
    "        else:\n",
    "            list1 = [char for char in i]\n",
    "            list2 = []\n",
    "\n",
    "            for i in range(len(list1)):\n",
    "                list2.insert(0,list1[i])\n",
    "            list3 = \"\".join(list2)\n",
    "            kata2.append(list3)\n",
    "    print(kata2)\n",
    "    kata3 = \" \".join(kata2)\n",
    "    print(kata3)\n",
    "spinwords(kata)"
   ]
  },
  {
   "cell_type": "code",
   "execution_count": 2,
   "metadata": {},
   "outputs": [
    {
     "name": "stdout",
     "output_type": "stream",
     "text": [
      " 1  2  3  4  5 \n"
     ]
    }
   ],
   "source": [
    "a = [1,2,3,4,5]\n",
    "b =''\n",
    "for i in a:\n",
    "    b += ' '+str(i) + ' '\n",
    "print(b)"
   ]
  },
  {
   "cell_type": "code",
   "execution_count": null,
   "metadata": {},
   "outputs": [],
   "source": [
    "a = [1,2,3,4,5]\n",
    "b =' '.join(a)\n",
    "for i in a:\n",
    "    b += ' '+str(i) + ' '\n",
    "print(b)"
   ]
  },
  {
   "cell_type": "markdown",
   "metadata": {},
   "source": [
    "### Tugas Hari ke 14"
   ]
  },
  {
   "cell_type": "code",
   "execution_count": 19,
   "metadata": {},
   "outputs": [
    {
     "name": "stdout",
     "output_type": "stream",
     "text": [
      "masukkan angka: 5\n",
      " 1 \n",
      " 1  2 \n",
      " 1  2  3 \n",
      " 1  2  3  4 \n",
      " 1  2  3  4  5 \n"
     ]
    }
   ],
   "source": [
    "angka = int(input('masukkan angka: ')) # 5\n",
    "segitiga = '' # 1  2 \n",
    "#              1, 6\n",
    "for i in range(1,angka+1): # [1,2,3,4,5]\n",
    "    #              3, 4       [3] \n",
    "    for j in range(i, i+1): # [1]\n",
    "        segitiga += ' '+str(i)+' '\n",
    "        print(segitiga)\n",
    "    #    1 \n",
    "    #    1  2 \n",
    "    #    1  2  3 "
   ]
  },
  {
   "cell_type": "code",
   "execution_count": 20,
   "metadata": {},
   "outputs": [
    {
     "name": "stdout",
     "output_type": "stream",
     "text": [
      "masukkan angka: 5\n",
      " 1  2  3  4  5 \n",
      " 1  2  3  4 \n",
      " 1  2  3 \n",
      " 1  2 \n",
      " 1 \n"
     ]
    }
   ],
   "source": [
    "angka = int(input('masukkan angka: '))\n",
    "for i in range(angka,0,-1): # [5,4,3,2,1]\n",
    "    segitiga = '' # \n",
    "    # i = 5\n",
    "    #              1,5\n",
    "    for j in range(1,i+1): # [1,2,3]\n",
    "        segitiga += ' '+str(j)+' '\n",
    "        # segiti\n",
    "    print(segitiga)\n",
    "    # print(f'ini{baris} ^^^^^^')\n",
    "    # baris+=1\n"
   ]
  },
  {
   "cell_type": "code",
   "execution_count": 1,
   "metadata": {},
   "outputs": [
    {
     "name": "stdout",
     "output_type": "stream",
     "text": [
      "masukkan angka: 6\n",
      " 1 \n",
      " 1  2 \n",
      " 1  2  3 \n",
      " 1  2  3  4 \n",
      " 1  2  3  4  5 \n",
      " 1  2  3  4  5  6 \n",
      " 1  2  3  4  5 \n",
      " 1  2  3  4 \n",
      " 1  2  3 \n",
      " 1  2 \n",
      " 1 \n"
     ]
    }
   ],
   "source": [
    "angka = int(input('masukkan angka: '))\n",
    "segitiga = ''\n",
    "for i in range(1,angka+1): # [1,2,3,4,5]\n",
    "    for j in range(i, i+1): # [1]\n",
    "        segitiga += ' '+str(i)+' '\n",
    "        print(segitiga)\n",
    "for i in range(angka-1,0,-1): # [4,3,2,1]\n",
    "    segitiga = ''\n",
    "    for j in range(1,i+1): # [1,2,3,4]\n",
    "        segitiga += ' '+str(j)+' '\n",
    "        # segiti\n",
    "    print(segitiga)"
   ]
  },
  {
   "cell_type": "code",
   "execution_count": 10,
   "metadata": {},
   "outputs": [
    {
     "name": "stdout",
     "output_type": "stream",
     "text": [
      "masukkan angka: 6\n",
      " 1 \n",
      " 1  2 \n",
      " 1  2  3 \n",
      " 1  2  3  4 \n",
      " 1  2  3  4  5 \n",
      " 1  2  3  4  5  6 \n",
      " 1  2  3  4  5 \n",
      " 1  2  3  4 \n",
      " 1  2  3 \n",
      " 1  2 \n",
      " 1 \n"
     ]
    }
   ],
   "source": [
    "angka = int(input('masukkan angka: '))\n",
    "segitiga = ''\n",
    "#for i in range(1,angka+1): # [1,2,3,4,5]\n",
    "for j in range(1, angka+1): # [1]\n",
    "    segitiga += ' '+str(j)+' '\n",
    "    print(segitiga)\n",
    "    \n",
    "    \n",
    "for i in range(angka-1,0,-1): # [4,3,2,1]\n",
    "    segitiga = ''\n",
    "    for j in range(1,i+1): # [1,2,3,4]\n",
    "        segitiga += ' '+str(j)+' '\n",
    "        # segiti\n",
    "    print(segitiga)"
   ]
  },
  {
   "cell_type": "code",
   "execution_count": 4,
   "metadata": {},
   "outputs": [
    {
     "name": "stdout",
     "output_type": "stream",
     "text": [
      "[0, 15]\n"
     ]
    }
   ],
   "source": [
    "# mencari indeks dari hruf tertentu\n",
    "x = 'Halo Dunia LainH'\n",
    "c = (list(enumerate(x))) \n",
    "d = []\n",
    "for i in range(len(c)):\n",
    "    if c[i][1] == 'H':\n",
    "        d.append(i)\n",
    "print(d)\n",
    "        "
   ]
  },
  {
   "cell_type": "markdown",
   "metadata": {},
   "source": [
    "### Ujian"
   ]
  },
  {
   "cell_type": "markdown",
   "metadata": {},
   "source": [
    "##### Nomer 1"
   ]
  },
  {
   "cell_type": "code",
   "execution_count": 12,
   "metadata": {},
   "outputs": [
    {
     "name": "stdout",
     "output_type": "stream",
     "text": [
      "masukkan nomer anda: 123456789@\n",
      "No punctuation. Only positive integer\n"
     ]
    }
   ],
   "source": [
    "import string \n",
    "alphabet = 'abcdefghijklmnopqrstuvwxyz'\n",
    "result = string.punctuation\n",
    "seg ='-'\n",
    "a_list = []\n",
    "b_list = ['(']\n",
    "c_list = []\n",
    "d_list = ['-']\n",
    "e_list = [0]\n",
    "flag = True\n",
    "mantap = input('masukkan nomer anda: ').lower()\n",
    "if len(mantap) != 10 :\n",
    "        print('it is not 10 number')\n",
    "       \n",
    "        \n",
    "else:\n",
    "    for i in mantap:\n",
    "        if i in alphabet:\n",
    "            flag = False\n",
    "            break\n",
    "\n",
    "        elif i in seg:\n",
    "            flag = False\n",
    "            break\n",
    "        elif i in result:\n",
    "            flag = False\n",
    "            break\n",
    "            \n",
    "    if flag == False:\n",
    "        for i in mantap:\n",
    "            if i in alphabet:\n",
    "                print('No alphabet. Only integer')\n",
    "                break\n",
    "            elif i in seg:\n",
    "                print('No negative. Only positive integer')\n",
    "                break\n",
    "            elif i in result:\n",
    "                print('No punctuation. Only positive integer')\n",
    "                break\n",
    "    else:\n",
    "        for i in mantap:\n",
    "            a_list.append(i)\n",
    "        for z in range(len(a_list)):\n",
    "            if z == 0 or z == 1 or z == 2:\n",
    "                b_list.append(a_list[z])\n",
    "\n",
    "\n",
    "            elif z == 3 or z == 4 or z == 5:\n",
    "                c_list.append(a_list[z])\n",
    "            else:\n",
    "                d_list.append(a_list[z])\n",
    "\n",
    "        b_list.append(')')\n",
    "\n",
    "        b_list.append(' ')\n",
    "\n",
    "\n",
    "        result = b_list + c_list + d_list\n",
    "    # print(result)\n",
    "\n",
    "        result = ''.join(result)\n",
    "        print(result)\n",
    "\n",
    "\n",
    "#     b_list.append(')')\n",
    "\n",
    "#     b_list.append(' ')\n",
    "\n",
    "#     # print(b_list)\n",
    "#     # print(c_list)\n",
    "#     # print(d_list)\n",
    "\n",
    "#     result = b_list + c_list + d_list\n",
    "#     # print(result)\n",
    "\n",
    "#     result = ''.join(result)\n",
    "#     print(result)"
   ]
  },
  {
   "cell_type": "markdown",
   "metadata": {},
   "source": [
    "##### Nomer 2"
   ]
  },
  {
   "cell_type": "code",
   "execution_count": 3,
   "metadata": {},
   "outputs": [
    {
     "name": "stdout",
     "output_type": "stream",
     "text": [
      "[False, 1, False, 0]\n"
     ]
    }
   ],
   "source": [
    "def moveZeros(mantap):\n",
    "    list_1 = mantap\n",
    "    list_3 = list_1.copy()\n",
    "    list_2 = []\n",
    "    a_list = []\n",
    "    for i in list_1:\n",
    "        if i is 0:\n",
    "            list_2.append(i)\n",
    "    \n",
    "\n",
    "    for i in list_1:\n",
    "        if i is not 0:\n",
    "            a_list.append(i)\n",
    "    b = a_list + list_2\n",
    "    print(b)\n",
    "a = [False, 0, 1, False]\n",
    "moveZeros(a)"
   ]
  },
  {
   "cell_type": "markdown",
   "metadata": {},
   "source": [
    "##### Nomer 3"
   ]
  },
  {
   "cell_type": "code",
   "execution_count": 11,
   "metadata": {},
   "outputs": [
    {
     "data": {
      "text/plain": [
       "2.9"
      ]
     },
     "execution_count": 11,
     "metadata": {},
     "output_type": "execute_result"
    }
   ],
   "source": [
    "import math\n",
    "class Statistic():\n",
    "#     def __init__(self):\n",
    "    \n",
    "\n",
    "    def mean(self, first):\n",
    "        self.first = first\n",
    "        jumlah = 0\n",
    "        flag =True\n",
    "        for i in self.first:\n",
    "            if type(i) == str :\n",
    "                flag = False\n",
    "        if flag:\n",
    "            for i in self.first:\n",
    "                jumlah += i\n",
    "                result = round(jumlah/len(self.first))\n",
    "            print(result)\n",
    "        else:\n",
    "            print('Invalid Input. ALL must be integer')\n",
    "        \n",
    "    def median(self, second):\n",
    "        self.second = second \n",
    "        flag =True\n",
    "        for i in self.second:\n",
    "            if type(i) == str :\n",
    "                flag = False\n",
    "        if flag:\n",
    "            self.second = sorted(second) \n",
    "            if len(self.second)%2 == 0: \n",
    "                tengah = int(len(self.second)/2)\n",
    "                tengah_1 =  tengah-1   \n",
    "                median = (self.second[tengah] + self.second[tengah_1])/2\n",
    "                print(median)\n",
    "            else:\n",
    "                tengah = math.floor(len(self.second)/2)\n",
    "                median = self.second[tengah]\n",
    "                print(median)\n",
    "        else:\n",
    "            print('Invalid Input. ALL must be integer')\n",
    "    \n",
    "    def modus(self, third):\n",
    "        self.third = third\n",
    "        flag =True\n",
    "        for i in self.third:\n",
    "            if type(i) == str :\n",
    "                flag = False\n",
    "        if flag:\n",
    "            b = set(self.third)\n",
    "            res = dict.fromkeys(b, 0) \n",
    "            jumlah = 0\n",
    "            for i in self.third:\n",
    "                res[i] += 1\n",
    "\n",
    "            c = res.values()\n",
    "            n = res.keys()\n",
    "            d = [char for char in c]\n",
    "            m = [char for char in n]\n",
    "#             print(m)\n",
    "#             print(d)\n",
    "            z = max(d)\n",
    "#             print(z)\n",
    "            if z == 1:\n",
    "                print('tidak ada modus')\n",
    "            else:\n",
    "                x = []\n",
    "                for i,j in enumerate(d):\n",
    "#                     print(i, j)\n",
    "                    if j == z:\n",
    "                        x.append(m[i])\n",
    "                for k in x:\n",
    "                    print(k, end='  ')\n",
    "        else:\n",
    "            print('Invalid Input. ALL must be integer')\n",
    "            \n",
    "    def std(self, fourth):\n",
    "        self.fourth = fourth\n",
    "        jumlah = 0\n",
    "        flag =True\n",
    "        for i in self.fourth:\n",
    "            if type(i) == str :\n",
    "                flag = False\n",
    "        tambah = 0 \n",
    "        if flag:\n",
    "            for i in self.fourth:\n",
    "                jumlah += i\n",
    "                result = round(jumlah/len(self.fourth))\n",
    "            jumlah = 0 \n",
    "            for z in self.fourth:\n",
    "                tambah += (result-z)**2\n",
    "            hampir = tambah/len(self.fourth)\n",
    "            result = round(hampir**0.5, 1)\n",
    "            return result\n",
    "        else:\n",
    "            print('Invalid Input. ALL must be integer')\n",
    "            \n",
    "                \n",
    "            \n",
    "        \n",
    "\n",
    "          \n",
    "            \n",
    "        \n",
    "        \n",
    "        \n",
    "\n",
    "st = Statistic()\n",
    "\n",
    "st.std([5,2,3,4,1,7,10]) # [1, 2, 4, 5, 6] \n",
    "\n"
   ]
  },
  {
   "cell_type": "code",
   "execution_count": 5,
   "metadata": {},
   "outputs": [
    {
     "data": {
      "text/plain": [
       "[1, 2, 3, 4, 4, 5, 7, 10, 10, 10]"
      ]
     },
     "execution_count": 5,
     "metadata": {},
     "output_type": "execute_result"
    }
   ],
   "source": [
    "a = [5,2,3,4,4,1,7,10,10,10]\n",
    "a.sort()\n",
    "a"
   ]
  },
  {
   "cell_type": "markdown",
   "metadata": {},
   "source": [
    "### Code Challenge"
   ]
  },
  {
   "cell_type": "code",
   "execution_count": null,
   "metadata": {},
   "outputs": [],
   "source": [
    "'''\n",
    "Saitama HP: 5000\n",
    "Saitama Atk: 5000\n",
    "Saitama Def: 300\n",
    "\n",
    "Genos HP: 5000\n",
    "Genos Atk: 2000\n",
    "Genos Def: 150\n",
    "\n",
    "Atomic HP: 5000\n",
    "Atomic Atk: 3000\n",
    "Atomic Def: 175\n",
    "\n",
    "rumus : attack dari penyerang / defence dari yang diserang\n",
    "def attack(self, lawannya_siapa):\n",
    "def attacked(self, yang_nyerang_siapa, attack_yang_nyerang_berapa):\n",
    "    {'attacker : genos' , 'attack_damege : 20'}\n",
    "\n",
    "@classmehtod\n",
    "def battlereport(cls, penyerang, lawannya, damage): me return dictionary\n",
    "\n",
    "battle report --> dict \n",
    "'''\n",
    "\n",
    "class Hero():\n",
    "    battle_round = 1\n",
    "    \n",
    "    def __init__(self, nama, attack, hp, deff):\n",
    "        self.namahero = nama\n",
    "        self.attackhero = attack\n",
    "        self.hphero = hp\n",
    "        self.deffhero = deff\n",
    "        \n",
    "    def attack(self, lawan):\n",
    "        self.namalawan = lawan\n",
    "        # self.atk = self.attackhero // lawan.deffhero\n",
    "        damage = lawan.attacked(self, self.attackhero)\n",
    "        # return self.atk\n",
    "        return Hero.batrep(self, lawan, damage)\n",
    "\n",
    "    def attacked(self, yang_nyerang_siapa, attack_yang_nyerang_berapa):\n",
    "        damage = yang_nyerang_siapa.attackhero // self.deffhero\n",
    "        self.hphero = self.hphero - damage\n",
    "        return damage\n",
    "\n",
    "    @classmethod\n",
    "    def batrep(cls, self, lawan, damage):\n",
    "        batrep = {'round' : Hero.battle_round, 'attacker' : self.namahero, \n",
    "        'opponent' : lawan.namahero, 'damage' : damage, 'attacker hp left' : self.hphero,\n",
    "        'opponent hp left' : lawan.hphero}\n",
    "        Hero.battle_round += 1\n",
    "        return batrep\n",
    "\n",
    "    \n",
    "        \n",
    "saitama = {'nama': 'Saitama', 'attack' : 5000, 'hp':5000, 'deff':300}\n",
    "genos = {'nama' : 'Genos', 'attack' : 2000 , 'hp' :5000, 'deff' : 150}\n",
    "atomic = {'nama' : 'Atomic', 'attack' : 3000 , 'hp' :5000, 'deff' : 175}\n",
    "\n",
    "\n",
    "\n",
    "# print(round(Saitama.attack(Genos),2))\n",
    "# print(Hero.batrep(Saitama, Genos, 30))\n",
    "\n",
    "def choose_hero(Saitama, Genos, Atomic):\n",
    "    hero_dict = {1: Saitama, 2: Genos, 3:Atomic}\n",
    "    print('Hero list : (1) Saitama, (2) Genos, (3) Atomic')\n",
    "    player1 = int(input('Choose hero 1 :'))\n",
    "    player2 = int(input('Choose hero 2 :'))\n",
    "    \n",
    "    hero1 = hero_dict[player1]\n",
    "    hero2 = hero_dict[player2] \n",
    "    print (f'Hello my Name is {hero1.namahero}')\n",
    "    print (f'Hello my Name is {hero2.namahero}')\n",
    "    print(f'{hero1.namahero} {hero1.hphero} \\nVS \\n{hero2.namahero} {hero2.hphero}')\n",
    "    \n",
    "    return hero_dict[player1], hero_dict[player2]\n",
    "\n",
    "\n",
    "\n",
    "def maingame():\n",
    "    \n",
    "    ## memulai instance\n",
    "    saitama = {'nama': 'Saitama', 'attack' : 5000, 'hp':5000, 'deff':300}\n",
    "    genos = {'nama' : 'Genos', 'attack' : 2000 , 'hp' :5000, 'deff' : 150}\n",
    "    atomic = {'nama' : 'Atomic', 'attack' : 3000 , 'hp' :5000, 'deff' : 175}\n",
    "\n",
    "    Saitama = Hero(nama=saitama['nama'], attack=saitama['attack'], hp=saitama['hp'], deff=saitama['deff'])\n",
    "    Genos = Hero(nama=genos['nama'], attack=genos['attack'], hp=genos['hp'], deff=genos['deff'])\n",
    "    Atomic = Hero(nama=atomic['nama'], attack=atomic['attack'], hp=atomic['hp'], deff=atomic['deff'])\n",
    "\n",
    "    try:\n",
    "        player1, player2 = choose_hero(Saitama, Genos, Atomic)\n",
    "    \n",
    "\n",
    "        list_batrep = []\n",
    "        # lagi = 'y'\n",
    "        while player1.hphero > 0 and player2.hphero > 0:\n",
    "            list_batrep.append(player1.attack(player2))\n",
    "            if player2.hphero <= 0:\n",
    "                break\n",
    "            list_batrep.append(player2.attack(player1))\n",
    "            if player1.hphero <= 0:\n",
    "                break\n",
    "        if player1.hphero > 0 : \n",
    "            print (f'{player1.namahero} WIN!! After {Hero.battle_round-1} rounds') \n",
    "        else :\n",
    "            print (f'{player2.namahero} WIN!! After {Hero.battle_round-1} rounds') \n",
    "        # print(list_batrep[-1])\n",
    "\n",
    "        # for i in list_batrep:\n",
    "        #     print(i)\n",
    "\n",
    "        # looping liat battle report\n",
    "        view_batrep = input('Do you want to see battle report? [y/n] ').lower()\n",
    "        while view_batrep == 'y':\n",
    "    #         view_batrep = input('Do you want to see battle report? [y/n] ').lower()\n",
    "            round_berapa = input ('Masukan Round yang ingin di lihat : ')\n",
    "            try: \n",
    "                print(list_batrep[int(round_berapa)-1])\n",
    "            except:\n",
    "                print('Masukkan hanya angka di dalam range!!')\n",
    "                continue\n",
    "                # kalo angka di luar range bakal disuruh ulang masukin lagi\n",
    "            view_batrep = input('Do you want to see battle report? [y/n] ').lower()\n",
    "    \n",
    "    \n",
    "    #     if view_batrep == 'y':\n",
    "    #         round_berapa = input ('Masukan Round yang ingin di lihat : ')\n",
    "    #         while view_batrep == 'y':\n",
    "    #             print(list_batrep[int(round_berapa)-1])\n",
    "    #             view_batrep = input('Do you want to see battle report? [y/n] ').lower()\n",
    "    #             if view_batrep == 'y':\n",
    "    #                 round_berapa = int(input ('Masukan Round yang ingin di lihat : '))\n",
    "    #             else :\n",
    "    #                 continue\n",
    "    #     else :\n",
    "    #         ulang = input ('mau main lagi ? [y/n] : ')\n",
    "    \n",
    "    except:\n",
    "        # exception misal error di bagian awal pilih hero (pakai selain angka)\n",
    "        print('Masukkan hanya angka 1 / 2 / 3!!')\n",
    "                    \n",
    "                    \n",
    "            \n",
    "        \n",
    "ulang = 'y'\n",
    "while ulang == 'y':\n",
    "    \n",
    "    Saitama = Hero(nama=saitama['nama'], attack=saitama['attack'], hp=saitama['hp'], deff=saitama['deff'])\n",
    "    Genos = Hero(nama=genos['nama'], attack=genos['attack'], hp=genos['hp'], deff=genos['deff'])\n",
    "    Atomic = Hero(nama=atomic['nama'], attack=atomic['attack'], hp=atomic['hp'], deff=atomic['deff'])\n",
    "    Hero.battle_round = 1 # class attribute harus di-update di luar, kalo enggak di-update, jml battle round bakal terus nambah\n",
    "    # kalo gak di-update di luar jadi gini:\n",
    "    # misal game ke-1 1 vs 2 ada 303 ronde, nanti pas game ke-2 rondenya jadi 606\n",
    "    maingame()\n",
    "    \n",
    "    ulang = input('mau main lagi ? [y/n] : ')\n"
   ]
  },
  {
   "cell_type": "code",
   "execution_count": null,
   "metadata": {},
   "outputs": [],
   "source": [
    "heroes = []\n",
    "    # block = 20\n",
    "    battle_round = 1\n",
    "\n",
    "    def __init__(self, hero_name):\n",
    "        # instance variable\n",
    "        self.name = hero_name\n",
    "        if self.name == 'Saitama':    \n",
    "            self.hp = 5000\n",
    "            self.atk = 5000\n",
    "            Hero.count += 1\n",
    "            Hero.heroes.append(hero_name)\n",
    "            self.id = Hero.count\n",
    "            self.defence = 300\n",
    "        elif self.name == 'Genos':    \n",
    "            self.hp = 5000\n",
    "            self.atk = 2000\n",
    "            Hero.count += 1\n",
    "            Hero.heroes.append(hero_name)\n",
    "            self.id = Hero.count\n",
    "            self.defence = 150\n",
    "        elif self.name == 'Atomic Samurai':    \n",
    "            self.hp = 5000\n",
    "            self.atk = 3000\n",
    "            Hero.count += 1\n",
    "            Hero.heroes.append(hero_name)\n",
    "            self.id = Hero.count\n",
    "            self.defence = 175 \n",
    "\n",
    "    # void function, method tanpa return\n",
    "    def introduce(self):\n",
    "        print('My name is', self.name, 'I am a Hero!')\n",
    "\n",
    "    # method with argumen:\n",
    "    # def healthUp(self, up):\n",
    "    #     self.hp += up\n",
    "\n",
    "    # method with return\n",
    "    def getHealth(self):\n",
    "        return self.hp\n",
    "\n",
    "    #          hero2        hero1\n",
    "    def attack(self, opponent):\n",
    "        # print(self.name, 'hit', opponent.name)\n",
    "        #        hero1.attcked(hero2)\n",
    "        damage = opponent.attacked(self, self.atk)\n",
    "        batrep = Hero.battle_report(self, opponent, damage)\n",
    "        return batrep\n",
    "        # print(f\"{self.name}'s HP is {self.hp} left\")\n",
    "        # print(f\"{opponent.name}'s HP is {opponent.hp} left\")\n",
    "\n",
    "    def attacked(self, opponent, atk_opponent):\n",
    "        # print(self.name, 'hitted by', opponent.name)\n",
    "        damage = int(atk_opponent/self.defence)\n",
    "        self.hp -= damage\n",
    "        return damage\n",
    "\n",
    "    @classmethod\n",
    "    def battle_report(cls, attacker, opponent, damage):\n",
    "        batrep = {\n",
    "            'Round' : Hero.battle_round,\n",
    "            'Attacker' : attacker.name,\n",
    "            'Opponent' : opponent.name,\n",
    "            'Damage' : damage,\n",
    "            'Attacker HP Left': attacker.hp,\n",
    "            'Opponent HP Left': opponent.hp\n",
    "        }\n",
    "        Hero.battle_round+=1\n",
    "        return batrep\n",
    "\n",
    "# instaciating\n",
    "play_again = 'y'\n",
    "\n",
    "while play_again == 'y':\n",
    "    Hero.battle_round = 1\n",
    "    print(\"### Welcome to One Punch Man 1v1 ###\")\n",
    "    print('Hero Available: (1) Saitama; (2) Genos; (3) Atomic Samurai')\n",
    "    hero1 = int(input('Choose Your First Hero!: '))\n",
    "    while hero1 > 3:\n",
    "        print(\"Can't find hero!\")\n",
    "        print('Hero Available: (1) Saitama; (2) Genos; (3) Atomic Samurai')\n",
    "        hero1 = int(input('Choose Your First Hero!: '))\n",
    "\n",
    "    hero2 = int(input('Choose Your Second Hero!: '))\n",
    "    while hero2 > 3 or hero2 == hero1:\n",
    "        print(\"You either choose the same hero as Player 1 nor, you choose not existed hero. Choose another one!\")\n",
    "        print('Hero Available: (1) Saitama; (2) Genos; (3) Atomic Samurai')\n",
    "        hero2 = int(input('Choose Your Second Hero!: '))\n",
    "    \n",
    "    if hero1 == 1:\n",
    "        hero1 = Hero('Saitama')\n",
    "    elif hero1 == 2:\n",
    "        hero1 = Hero('Genos')\n",
    "    elif hero1 == 3:\n",
    "        hero1 = Hero('Atomic Samurai')\n",
    "\n",
    "    if hero2 == 1:\n",
    "        hero2 = Hero('Saitama')\n",
    "    elif hero2 == 2:\n",
    "        hero2 = Hero('Genos')\n",
    "    elif hero2 == 3:\n",
    "        hero2 = Hero('Atomic Samurai')\n",
    "\n",
    "    hero1.introduce()\n",
    "    hero2.introduce()\n",
    "\n",
    "    print(f'{hero1.name}: {hero1.hp}')\n",
    "    print()\n",
    "    print('VS')\n",
    "    print()\n",
    "    print(f'{hero2.name}: {hero2.hp}')\n",
    "\n",
    "    game_round = []\n",
    "    while hero1.hp > 0 and hero2.hp > 0:\n",
    "        game_round.append(hero2.attack(hero1))\n",
    "        if hero1.hp > 0 and hero2.hp > 0:\n",
    "            game_round.append(hero1.attack(hero2))\n",
    "        else:\n",
    "            break\n",
    "\n",
    "    if hero1.hp > 0:\n",
    "        print(f'{hero1.name}, WIN! After {len(game_round)} Rounds')\n",
    "    else:\n",
    "        print(f'{hero2.name}, WIN! After {len(game_round)} Rounds')\n",
    "\n",
    "\n",
    "    see_bat_rep = 'y'\n",
    "    while see_bat_rep == 'y':\n",
    "        which_round = int(input('Which round do you want to see the report?: '))\n",
    "        if which_round < 1 or which_round > len(game_round):\n",
    "            print('Round Invalid')\n",
    "        else:\n",
    "            print(game_round[which_round-1])\n",
    "            see_bat_rep = input('Do you want to see another report?(y/n): ').lower()\n",
    "            if see_bat_rep != 'y':\n",
    "                play_again = input('Do you want to play again?(y/n): ').lower()\n",
    "\n",
    "# print(Hero.heroes)\n",
    "\n",
    "# print(Hero.__dict__)\n",
    "\n",
    "# Private Variable\n",
    "\n",
    "\n",
    "\n",
    "\n",
    "\n",
    "\n",
    "\n"
   ]
  }
 ],
 "metadata": {
  "kernelspec": {
   "display_name": "Python 3",
   "language": "python",
   "name": "python3"
  },
  "language_info": {
   "codemirror_mode": {
    "name": "ipython",
    "version": 3
   },
   "file_extension": ".py",
   "mimetype": "text/x-python",
   "name": "python",
   "nbconvert_exporter": "python",
   "pygments_lexer": "ipython3",
   "version": "3.7.4"
  }
 },
 "nbformat": 4,
 "nbformat_minor": 2
}
